{
 "cells": [
  {
   "cell_type": "markdown",
   "metadata": {},
   "source": [
    "# Data Cleaning"
   ]
  },
  {
   "cell_type": "code",
   "execution_count": 3,
   "metadata": {
    "collapsed": true
   },
   "outputs": [],
   "source": [
    "library(dplyr)\n",
    "library(ggplot2)"
   ]
  },
  {
   "cell_type": "code",
   "execution_count": 2,
   "metadata": {
    "collapsed": true
   },
   "outputs": [],
   "source": [
    "#load data\n",
    "rent <- read.csv('fang88_rent.csv',na.strings=c(\"NA\",\"NaN\", \" \",\"NULL\"))\n",
    "house <- read.csv('home.csv',na.strings=c(\"NA\",\"NaN\", \" \",\"NULL\"))"
   ]
  },
  {
   "cell_type": "code",
   "execution_count": 4,
   "metadata": {},
   "outputs": [
    {
     "name": "stdout",
     "output_type": "stream",
     "text": [
      "'data.frame':\t1048575 obs. of  2 variables:\n",
      " $ rentzestimate_amount: int  16619 3495 4448 1430 1400 1375 4556 2500 1850 1650 ...\n",
      " $ unique_id           : Factor w/ 1048571 levels \"5.7035E+13\",\"5.71614E+13\",..: 614907 614902 75 79 78 80 76 115985 79253 937583 ...\n"
     ]
    },
    {
     "data": {
      "text/plain": [
       " rentzestimate_amount       unique_id      \n",
       " Min.   :   400       5.74132E+13:      2  \n",
       " 1st Qu.:  1550       5.81157E+13:      2  \n",
       " Median :  2200       5.82614E+13:      2  \n",
       " Mean   :  2994       5.89261E+13:      2  \n",
       " 3rd Qu.:  3200       5.7035E+13 :      1  \n",
       " Max.   :250000       5.71614E+13:      1  \n",
       " NA's   :87721        (Other)    :1048565  "
      ]
     },
     "metadata": {},
     "output_type": "display_data"
    }
   ],
   "source": [
    "#pick the columns to use in rent and check the statistics of rent dataset\n",
    "rent_use <- rent[,5:6]\n",
    "str(rent_use)\n",
    "summary(rent_use)\n",
    "rent_use$unique_id <- as.character(rent_use$unique_id)"
   ]
  },
  {
   "cell_type": "code",
   "execution_count": 5,
   "metadata": {},
   "outputs": [
    {
     "data": {
      "text/html": [
       "<table>\n",
       "<thead><tr><th></th><th scope=col>rentzestimate_amount</th><th scope=col>unique_id</th></tr></thead>\n",
       "<tbody>\n",
       "\t<tr><th scope=row>1903</th><td>1800       </td><td>5.74132E+13</td></tr>\n",
       "\t<tr><th scope=row>8566</th><td>  NA       </td><td>5.81157E+13</td></tr>\n",
       "\t<tr><th scope=row>9170</th><td>  NA       </td><td>5.82614E+13</td></tr>\n",
       "\t<tr><th scope=row>422192</th><td>2962       </td><td>5.89261E+13</td></tr>\n",
       "</tbody>\n",
       "</table>\n"
      ],
      "text/latex": [
       "\\begin{tabular}{r|ll}\n",
       "  & rentzestimate\\_amount & unique\\_id\\\\\n",
       "\\hline\n",
       "\t1903 & 1800        & 5.74132E+13\\\\\n",
       "\t8566 &   NA        & 5.81157E+13\\\\\n",
       "\t9170 &   NA        & 5.82614E+13\\\\\n",
       "\t422192 & 2962        & 5.89261E+13\\\\\n",
       "\\end{tabular}\n"
      ],
      "text/markdown": [
       "\n",
       "| <!--/--> | rentzestimate_amount | unique_id | \n",
       "|---|---|---|---|\n",
       "| 1903 | 1800        | 5.74132E+13 | \n",
       "| 8566 |   NA        | 5.81157E+13 | \n",
       "| 9170 |   NA        | 5.82614E+13 | \n",
       "| 422192 | 2962        | 5.89261E+13 | \n",
       "\n",
       "\n"
      ],
      "text/plain": [
       "       rentzestimate_amount unique_id  \n",
       "1903   1800                 5.74132E+13\n",
       "8566     NA                 5.81157E+13\n",
       "9170     NA                 5.82614E+13\n",
       "422192 2962                 5.89261E+13"
      ]
     },
     "metadata": {},
     "output_type": "display_data"
    }
   ],
   "source": [
    "#remove duplicated unique_id\n",
    "rent_use[duplicated(rent_use$unique_id),]\n",
    "rent_use <- rent_use %>%\n",
    "  distinct(unique_id, .keep_all = TRUE)"
   ]
  },
  {
   "cell_type": "code",
   "execution_count": 6,
   "metadata": {},
   "outputs": [
    {
     "name": "stdout",
     "output_type": "stream",
     "text": [
      "'data.frame':\t352221 obs. of  13 variables:\n",
      " $ unique_id    : Factor w/ 352221 levels \"ABOR_11622550\",..: 9 12 33 52 58 59 63 65 73 75 ...\n",
      " $ bathrooms    : num  1 5 3 2 3 2 3 3 3 4 ...\n",
      " $ bedrooms     : int  1 3 3 2 4 3 3 4 3 5 ...\n",
      " $ city         : Factor w/ 5182 levels \"\",\"29 Palms\",..: 192 589 4097 192 192 4176 2484 3560 644 2072 ...\n",
      " $ list_price   : int  225000 6850000 334900 735000 2800000 65000 349990 349990 975000 268004 ...\n",
      " $ latitude     : num  30.4 30.7 29.9 30.3 30.3 ...\n",
      " $ longitude    : num  -98 -98.2 -98 -97.7 -97.8 ...\n",
      " $ property_type: Factor w/ 12 levels \"APT\",\"COND\",\"COOP\",..: 11 11 2 1 11 11 11 11 11 11 ...\n",
      " $ lot_sqft     : int  0 640 0 0 1 0 NA NA 45 0 ...\n",
      " $ sqft         : int  704 4889 2351 1416 2016 2562 2148 2912 2975 2495 ...\n",
      " $ state        : Factor w/ 55 levels \"\",\"AK\",\"AL\",\"AR\",..: 46 46 46 46 46 46 46 46 46 46 ...\n",
      " $ year_built   : int  1955 2000 2016 2004 1962 1900 2015 2016 1990 2015 ...\n",
      " $ zip          : Factor w/ 7456 levels \"\",\".\",\"0\",\"1\",..: 5245 5174 5217 5224 5254 5299 5197 5212 4567 5192 ...\n"
     ]
    },
    {
     "data": {
      "text/plain": [
       "         unique_id        bathrooms         bedrooms               city       \n",
       " ABOR_11622550:     1   Min.   : 0.000   Min.   : 0.000   Houston    : 15981  \n",
       " ABOR_13245505:     1   1st Qu.: 2.000   1st Qu.: 3.000   Miami      :  8342  \n",
       " ABOR_13245677:     1   Median : 2.000   Median : 3.000   Chicago    :  7599  \n",
       " ABOR_13260708:     1   Mean   : 2.478   Mean   : 3.364   Las Vegas  :  4558  \n",
       " ABOR_13811525:     1   3rd Qu.: 3.000   3rd Qu.: 4.000   Miami Beach:  3412  \n",
       " ABOR_14937134:     1   Max.   :99.990   Max.   :99.000   (Other)    :311842  \n",
       " (Other)      :352215   NA's   :2651     NA's   :13277    NA's       :   487  \n",
       "   list_price           latitude        longitude        property_type   \n",
       " Min.   :        0   Min.   :-81.27   Min.   :-159.676   RESI   :248616  \n",
       " 1st Qu.:   219999   1st Qu.: 29.50   1st Qu.: -97.995   APT    : 56486  \n",
       " Median :   369900   Median : 33.21   Median : -88.117   COND   : 17390  \n",
       " Mean   :   690378   Mean   : 33.73   Mean   : -93.935   RENT   : 10023  \n",
       " 3rd Qu.:   649900   3rd Qu.: 37.94   3rd Qu.: -81.483   LAND   :  9013  \n",
       " Max.   :250000000   Max.   : 49.00   Max.   :   1.923   (Other): 10692  \n",
       " NA's   :1           NA's   :14107    NA's   :14107      NA's   :     1  \n",
       "    lot_sqft              sqft             state         year_built      \n",
       " Min.   :0.000e+00   Min.   :      0   FL     :85162   Min.   :       0  \n",
       " 1st Qu.:5.600e+03   1st Qu.:   1344   TX     :81846   1st Qu.:    1970  \n",
       " Median :8.712e+03   Median :   2012   CA     :59328   Median :    1993  \n",
       " Mean   :1.301e+05   Mean   :   2368   IL     :33773   Mean   :    2047  \n",
       " 3rd Qu.:1.864e+04   3rd Qu.:   2961   GA     :30207   3rd Qu.:    2006  \n",
       " Max.   :2.147e+09   Max.   :3092760   (Other):61332   Max.   :19571939  \n",
       " NA's   :138108      NA's   :25404     NA's   :  573   NA's   :16141     \n",
       "      zip        \n",
       " 33160  :  2284  \n",
       " 33139  :  1842  \n",
       " 92253  :  1575  \n",
       " 33131  :  1458  \n",
       " 77494  :  1181  \n",
       " (Other):343572  \n",
       " NA's   :   309  "
      ]
     },
     "metadata": {},
     "output_type": "display_data"
    },
    {
     "data": {
      "text/html": [
       "<table>\n",
       "<thead><tr><th scope=col>unique_id</th><th scope=col>bathrooms</th><th scope=col>bedrooms</th><th scope=col>city</th><th scope=col>list_price</th><th scope=col>latitude</th><th scope=col>longitude</th><th scope=col>property_type</th><th scope=col>lot_sqft</th><th scope=col>sqft</th><th scope=col>state</th><th scope=col>year_built</th><th scope=col>zip</th></tr></thead>\n",
       "<tbody>\n",
       "</tbody>\n",
       "</table>\n"
      ],
      "text/latex": [
       "\\begin{tabular}{r|lllllllllllll}\n",
       " unique\\_id & bathrooms & bedrooms & city & list\\_price & latitude & longitude & property\\_type & lot\\_sqft & sqft & state & year\\_built & zip\\\\\n",
       "\\hline\n",
       "\\end{tabular}\n"
      ],
      "text/markdown": [
       "\n",
       "unique_id | bathrooms | bedrooms | city | list_price | latitude | longitude | property_type | lot_sqft | sqft | state | year_built | zip | \n",
       "||\n",
       "\n",
       "\n"
      ],
      "text/plain": [
       "     unique_id bathrooms bedrooms city list_price latitude longitude\n",
       "     property_type lot_sqft sqft state year_built zip"
      ]
     },
     "metadata": {},
     "output_type": "display_data"
    }
   ],
   "source": [
    "#check the statistics of house dataset\n",
    "str(house)\n",
    "summary(house)\n",
    "\n",
    "#remove duplicated unique_id\n",
    "house[duplicated(house$unique_id),] # no duplicated records shown\n",
    "house$unique_id <- as.character(house$unique_id)"
   ]
  },
  {
   "cell_type": "code",
   "execution_count": 7,
   "metadata": {},
   "outputs": [
    {
     "name": "stdout",
     "output_type": "stream",
     "text": [
      "'data.frame':\t221961 obs. of  14 variables:\n",
      " $ unique_id           : chr  \"ABOR_11622550\" \"ABOR_13245505\" \"ABOR_13245677\" \"ABOR_13260708\" ...\n",
      " $ bathrooms           : num  2 1 1 1 2 3 3 5 1 2 ...\n",
      " $ bedrooms            : int  2 1 1 1 2 4 4 4 1 2 ...\n",
      " $ city                : Factor w/ 5182 levels \"\",\"29 Palms\",..: 4663 1717 1717 1717 551 2484 192 1557 192 4388 ...\n",
      " $ list_price          : int  249900 79500 79500 119000 342850 700000 550000 1899000 225000 995000 ...\n",
      " $ latitude            : num  30.9 30.6 30.6 30.6 30.7 ...\n",
      " $ longitude           : num  -98.5 -98.4 -98.4 -98.4 -98.4 ...\n",
      " $ property_type       : Factor w/ 12 levels \"APT\",\"COND\",\"COOP\",..: 11 1 1 1 11 11 11 11 11 11 ...\n",
      " $ lot_sqft            : int  1 NA NA NA 1 2 4 102 0 77 ...\n",
      " $ sqft                : int  2324 957 957 957 1592 2808 2500 5692 704 1950 ...\n",
      " $ state               : Factor w/ 55 levels \"\",\"AK\",\"AL\",\"AR\",..: 46 46 46 46 46 46 46 46 46 46 ...\n",
      " $ year_built          : int  1950 1982 1982 1982 2000 1993 2015 2002 1955 1984 ...\n",
      " $ zip                 : Factor w/ 7456 levels \"\",\".\",\"0\",\"1\",..: 5220 5206 5206 5206 5172 5197 5255 5185 5245 5218 ...\n",
      " $ rentzestimate_amount: int  NA 950 900 950 1787 3087 NA 10632 1350 5416 ...\n"
     ]
    },
    {
     "data": {
      "text/plain": [
       "  unique_id           bathrooms         bedrooms              city       \n",
       " Length:221961      Min.   : 0.000   Min.   : 0.00   Houston    : 10575  \n",
       " Class :character   1st Qu.: 2.000   1st Qu.: 3.00   Miami      :  6050  \n",
       " Mode  :character   Median : 2.000   Median : 3.00   Chicago    :  4051  \n",
       "                    Mean   : 2.547   Mean   : 3.39   Las Vegas  :  2846  \n",
       "                    3rd Qu.: 3.000   3rd Qu.: 4.00   Miami Beach:  2789  \n",
       "                    Max.   :99.990   Max.   :51.00   Austin     :  2266  \n",
       "                    NA's   :1655     NA's   :8523    (Other)    :193384  \n",
       "   list_price           latitude        longitude       property_type   \n",
       " Min.   :        1   Min.   :-81.27   Min.   :-159.68   RESI   :154836  \n",
       " 1st Qu.:   220000   1st Qu.: 28.73   1st Qu.: -97.74   APT    : 36634  \n",
       " Median :   379800   Median : 33.03   Median : -87.85   COND   :  9585  \n",
       " Mean   :   750569   Mean   : 33.40   Mean   : -93.13   RENT   :  8657  \n",
       " 3rd Qu.:   694000   3rd Qu.: 37.30   3rd Qu.: -81.30   LAND   :  5995  \n",
       " Max.   :250000000   Max.   : 49.00   Max.   : -28.62   MULT   :  4327  \n",
       " NA's   :1           NA's   :6631     NA's   :6631      (Other):  1927  \n",
       "    lot_sqft              sqft            state         year_built      \n",
       " Min.   :0.000e+00   Min.   :     0   FL     :58324   Min.   :       0  \n",
       " 1st Qu.:5.773e+03   1st Qu.:  1360   TX     :49935   1st Qu.:    1970  \n",
       " Median :9.200e+03   Median :  2081   CA     :35452   Median :    1993  \n",
       " Mean   :1.300e+05   Mean   :  2448   GA     :20471   Mean   :    2081  \n",
       " 3rd Qu.:2.051e+04   3rd Qu.:  3082   IL     :19880   3rd Qu.:    2006  \n",
       " Max.   :1.973e+09   Max.   :854454   (Other):37895   Max.   :19571939  \n",
       " NA's   :88614       NA's   :16677    NA's   :    4   NA's   :10074     \n",
       "      zip         rentzestimate_amount\n",
       " 33160  :  1907   Min.   :   400      \n",
       " 33139  :  1473   1st Qu.:  1600      \n",
       " 92253  :  1263   Median :  2300      \n",
       " 33131  :  1010   Mean   :  3854      \n",
       " 33180  :  1001   3rd Qu.:  3500      \n",
       " (Other):215300   Max.   :250000      \n",
       " NA's   :     7   NA's   :34684       "
      ]
     },
     "metadata": {},
     "output_type": "display_data"
    }
   ],
   "source": [
    "#inner join house with rent_use by unique_id\n",
    "house_rent <- merge(house,rent_use, by=\"unique_id\") #inner join\n",
    "str(house_rent)\n",
    "summary(house_rent)"
   ]
  },
  {
   "cell_type": "code",
   "execution_count": 8,
   "metadata": {
    "collapsed": true
   },
   "outputs": [],
   "source": [
    "#create a function imp.median to replace NA with median\n",
    "imp.median <- function (a){\n",
    "  missing <- is.na(a)\n",
    "  imputed <- a\n",
    "  imputed[missing] <- median(a,  na.rm=TRUE)\n",
    "  return (imputed)\n",
    "}"
   ]
  },
  {
   "cell_type": "code",
   "execution_count": 9,
   "metadata": {},
   "outputs": [
    {
     "data": {
      "text/html": [
       "<dl class=dl-horizontal>\n",
       "\t<dt>0%</dt>\n",
       "\t\t<dd>0</dd>\n",
       "\t<dt>1%</dt>\n",
       "\t\t<dd>0</dd>\n",
       "\t<dt>99.99%</dt>\n",
       "\t\t<dd>18.8040000000037</dd>\n",
       "\t<dt>100%</dt>\n",
       "\t\t<dd>100</dd>\n",
       "</dl>\n"
      ],
      "text/latex": [
       "\\begin{description*}\n",
       "\\item[0\\textbackslash{}\\%] 0\n",
       "\\item[1\\textbackslash{}\\%] 0\n",
       "\\item[99.99\\textbackslash{}\\%] 18.8040000000037\n",
       "\\item[100\\textbackslash{}\\%] 100\n",
       "\\end{description*}\n"
      ],
      "text/markdown": [
       "0%\n",
       ":   01%\n",
       ":   099.99%\n",
       ":   18.8040000000037100%\n",
       ":   100\n",
       "\n"
      ],
      "text/plain": [
       "     0%      1%  99.99%    100% \n",
       "  0.000   0.000  18.804 100.000 "
      ]
     },
     "metadata": {},
     "output_type": "display_data"
    },
    {
     "data": {},
     "metadata": {},
     "output_type": "display_data"
    },
    {
     "data": {
      "image/png": "[encoded data removed]",
      "text/plain": [
       "plot without title"
      ]
     },
     "metadata": {},
     "output_type": "display_data"
    }
   ],
   "source": [
    "#cleaning of feature:bathrooms\n",
    "house_rent$bathrooms <- round(house_rent$bathrooms,0) # round float to the nearest integer\n",
    "house_rent$bathrooms <- imp.median(house_rent$bathrooms) # interpolate median\n",
    "\n",
    "quantile(house_rent$bathrooms, c(0,0.01,0.9999,1), na.rm = TRUE) #capping of outliers--0.9999\n",
    "house_rent$bathrooms[house_rent$bathrooms > quantile(house_rent$bathrooms,0.9999, na.rm = TRUE)] =\n",
    "  quantile(house_rent$bathrooms, 0.9999, na.rm = TRUE)\n",
    "\n",
    "# visulization \n",
    "ggplot(house_rent, aes(bathrooms)) +\n",
    "  geom_histogram(binwidth = 1)"
   ]
  },
  {
   "cell_type": "code",
   "execution_count": 10,
   "metadata": {},
   "outputs": [
    {
     "data": {
      "text/html": [
       "<dl class=dl-horizontal>\n",
       "\t<dt>0%</dt>\n",
       "\t\t<dd>0</dd>\n",
       "\t<dt>1%</dt>\n",
       "\t\t<dd>1</dd>\n",
       "\t<dt>99.99%</dt>\n",
       "\t\t<dd>18</dd>\n",
       "\t<dt>100%</dt>\n",
       "\t\t<dd>51</dd>\n",
       "</dl>\n"
      ],
      "text/latex": [
       "\\begin{description*}\n",
       "\\item[0\\textbackslash{}\\%] 0\n",
       "\\item[1\\textbackslash{}\\%] 1\n",
       "\\item[99.99\\textbackslash{}\\%] 18\n",
       "\\item[100\\textbackslash{}\\%] 51\n",
       "\\end{description*}\n"
      ],
      "text/markdown": [
       "0%\n",
       ":   01%\n",
       ":   199.99%\n",
       ":   18100%\n",
       ":   51\n",
       "\n"
      ],
      "text/plain": [
       "    0%     1% 99.99%   100% \n",
       "     0      1     18     51 "
      ]
     },
     "metadata": {},
     "output_type": "display_data"
    },
    {
     "data": {},
     "metadata": {},
     "output_type": "display_data"
    },
    {
     "data": {
      "image/png": "[encoded data removed]",
      "text/plain": [
       "plot without title"
      ]
     },
     "metadata": {},
     "output_type": "display_data"
    }
   ],
   "source": [
    "#cleaning of feature:bedrooms\n",
    "house_rent$bedrooms <- imp.median(house_rent$bedrooms) #interpolate median\n",
    "\n",
    "quantile(house_rent$bedrooms, c(0, 0.01, 0.9999,1), na.rm = TRUE) #capping of outliers--0.9999\n",
    "house_rent$bedrooms[house_rent$bedrooms > quantile(house_rent$bedrooms,0.9999, na.rm = TRUE)] =\n",
    "  quantile(house_rent$bedrooms, 0.9999, na.rm = TRUE)\n",
    "\n",
    "#visualization\n",
    "ggplot(house_rent, aes(bedrooms)) +\n",
    "  geom_histogram(binwidth = 1)"
   ]
  },
  {
   "cell_type": "code",
   "execution_count": 11,
   "metadata": {},
   "outputs": [
    {
     "data": {
      "text/html": [
       "<dl class=dl-horizontal>\n",
       "\t<dt>0%</dt>\n",
       "\t\t<dd>1</dd>\n",
       "\t<dt>1%</dt>\n",
       "\t\t<dd>1350</dd>\n",
       "\t<dt>99.99%</dt>\n",
       "\t\t<dd>6.5e+07</dd>\n",
       "\t<dt>100%</dt>\n",
       "\t\t<dd>2.5e+08</dd>\n",
       "</dl>\n"
      ],
      "text/latex": [
       "\\begin{description*}\n",
       "\\item[0\\textbackslash{}\\%] 1\n",
       "\\item[1\\textbackslash{}\\%] 1350\n",
       "\\item[99.99\\textbackslash{}\\%] 6.5e+07\n",
       "\\item[100\\textbackslash{}\\%] 2.5e+08\n",
       "\\end{description*}\n"
      ],
      "text/markdown": [
       "0%\n",
       ":   11%\n",
       ":   135099.99%\n",
       ":   6.5e+07100%\n",
       ":   2.5e+08\n",
       "\n"
      ],
      "text/plain": [
       "      0%       1%   99.99%     100% \n",
       "1.00e+00 1.35e+03 6.50e+07 2.50e+08 "
      ]
     },
     "metadata": {},
     "output_type": "display_data"
    },
    {
     "data": {},
     "metadata": {},
     "output_type": "display_data"
    },
    {
     "data": {
      "image/png": "[encoded data removed]",
      "text/plain": [
       "plot without title"
      ]
     },
     "metadata": {},
     "output_type": "display_data"
    }
   ],
   "source": [
    "#cleaning of feature:list_price\n",
    "house_rent$list_price <- imp.median(house_rent$list_price) #interpolate median\n",
    "\n",
    "quantile(house_rent$list_price, c(0,0.01,0.9999,1), na.rm = TRUE) #capping of outliers--0.9999\n",
    "house_rent$list_price[house_rent$list_price > quantile(house_rent$list_price,0.9999, na.rm = TRUE)] = \n",
    "  quantile(house_rent$list_price, 0.9999, na.rm = TRUE)\n",
    "#visualization -- right skewed\n",
    "ggplot(house_rent, aes(list_price)) +\n",
    "  geom_histogram(binwidth = 100000)"
   ]
  },
  {
   "cell_type": "code",
   "execution_count": 12,
   "metadata": {
    "collapsed": true
   },
   "outputs": [],
   "source": [
    "#cleaning of feature:latitude and longtitude\n",
    "house_rent$latitude <- imp.median(house_rent$latitude) #interpolate median\n",
    "house_rent$longitude <- imp.median(house_rent$longitude)"
   ]
  },
  {
   "cell_type": "code",
   "execution_count": 13,
   "metadata": {},
   "outputs": [
    {
     "data": {
      "text/html": [
       "<dl class=dl-horizontal>\n",
       "\t<dt>0%</dt>\n",
       "\t\t<dd>0</dd>\n",
       "\t<dt>1%</dt>\n",
       "\t\t<dd>0</dd>\n",
       "\t<dt>99.9%</dt>\n",
       "\t\t<dd>4318364.16000032</dd>\n",
       "\t<dt>100%</dt>\n",
       "\t\t<dd>1973355120</dd>\n",
       "</dl>\n"
      ],
      "text/latex": [
       "\\begin{description*}\n",
       "\\item[0\\textbackslash{}\\%] 0\n",
       "\\item[1\\textbackslash{}\\%] 0\n",
       "\\item[99.9\\textbackslash{}\\%] 4318364.16000032\n",
       "\\item[100\\textbackslash{}\\%] 1973355120\n",
       "\\end{description*}\n"
      ],
      "text/markdown": [
       "0%\n",
       ":   01%\n",
       ":   099.9%\n",
       ":   4318364.16000032100%\n",
       ":   1973355120\n",
       "\n"
      ],
      "text/plain": [
       "        0%         1%      99.9%       100% \n",
       "         0          0    4318364 1973355120 "
      ]
     },
     "metadata": {},
     "output_type": "display_data"
    },
    {
     "data": {},
     "metadata": {},
     "output_type": "display_data"
    },
    {
     "data": {
      "image/png": "[encoded data removed]",
      "text/plain": [
       "plot without title"
      ]
     },
     "metadata": {},
     "output_type": "display_data"
    }
   ],
   "source": [
    "#cleaning of feature:lot_sqft\n",
    "house_rent$lot_sqft <- imp.median(house_rent$lot_sqft)#interpolate median\n",
    "\n",
    "quantile(house_rent$lot_sqft, c(0,0.01,0.999,1), na.rm = TRUE)#capping of outliers--0.999\n",
    "\n",
    "house_rent$lot_sqft[house_rent$lot_sqft > quantile(house_rent$lot_sqft,0.999, na.rm = TRUE)] = \n",
    "  quantile(house_rent$lot_sqft, 0.999, na.rm = TRUE)\n",
    "# lot_sqft equals 0 is strange, replace 0 with median\n",
    "\n",
    "house_rent$lot_sqft[house_rent$lot_sqft == 0] <- median(house_rent$lot_sqft)\n",
    "# visualization -- right-skewed\n",
    "ggplot(house_rent, aes(lot_sqft)) +\n",
    "  geom_histogram(binwidth = 10000) "
   ]
  },
  {
   "cell_type": "code",
   "execution_count": 14,
   "metadata": {},
   "outputs": [
    {
     "data": {
      "text/html": [
       "<dl class=dl-horizontal>\n",
       "\t<dt>0%</dt>\n",
       "\t\t<dd>0</dd>\n",
       "\t<dt>1%</dt>\n",
       "\t\t<dd>0</dd>\n",
       "\t<dt>99.9%</dt>\n",
       "\t\t<dd>15873.7600000002</dd>\n",
       "\t<dt>100%</dt>\n",
       "\t\t<dd>854454</dd>\n",
       "</dl>\n"
      ],
      "text/latex": [
       "\\begin{description*}\n",
       "\\item[0\\textbackslash{}\\%] 0\n",
       "\\item[1\\textbackslash{}\\%] 0\n",
       "\\item[99.9\\textbackslash{}\\%] 15873.7600000002\n",
       "\\item[100\\textbackslash{}\\%] 854454\n",
       "\\end{description*}\n"
      ],
      "text/markdown": [
       "0%\n",
       ":   01%\n",
       ":   099.9%\n",
       ":   15873.7600000002100%\n",
       ":   854454\n",
       "\n"
      ],
      "text/plain": [
       "       0%        1%     99.9%      100% \n",
       "     0.00      0.00  15873.76 854454.00 "
      ]
     },
     "metadata": {},
     "output_type": "display_data"
    },
    {
     "data": {},
     "metadata": {},
     "output_type": "display_data"
    },
    {
     "data": {
      "image/png": "[encoded data removed]",
      "text/plain": [
       "plot without title"
      ]
     },
     "metadata": {},
     "output_type": "display_data"
    }
   ],
   "source": [
    "#cleaning of feature:sqft\n",
    "house_rent$sqft <- imp.median(house_rent$sqft) #interpolate median\n",
    "\n",
    "quantile(house_rent$sqft, c(0,0.01,0.999,1), na.rm = TRUE) #capping of outliers--0.999\n",
    "house_rent$sqft[house_rent$sqft > quantile(house_rent$sqft,0.999, na.rm = TRUE)] = \n",
    "  quantile(house_rent$sqft, 0.999, na.rm = TRUE)\n",
    "\n",
    "# sqft equals 0 is strange, replace 0 with median\n",
    "house_rent$sqft[house_rent$sqft == 0] <- median(house_rent$sqft)\n",
    "\n",
    "#visualization -- right-skewed\n",
    "ggplot(house_rent, aes(sqft)) +\n",
    "  geom_histogram(binwidth = 1000) "
   ]
  },
  {
   "cell_type": "code",
   "execution_count": 15,
   "metadata": {},
   "outputs": [
    {
     "data": {},
     "metadata": {},
     "output_type": "display_data"
    },
    {
     "data": {
      "image/png": "[encoded data removed]",
      "text/plain": [
       "plot without title"
      ]
     },
     "metadata": {},
     "output_type": "display_data"
    }
   ],
   "source": [
    "#cleaning of feature:year_built\n",
    "house_rent$year_built <- imp.median(house_rent$year_built) #interpolate median\n",
    "\n",
    "#for year_built, earlier than 1000 and later than 2017 will be replaced by median\n",
    "house_rent$year_built[house_rent$year_built < 1000 | house_rent$year_built > 2017] <-\n",
    "  median(house_rent$year_built)\n",
    "#visualization -- left-skewed\n",
    "ggplot(house_rent, aes(year_built)) +\n",
    "  geom_histogram(binwidth = 20)"
   ]
  },
  {
   "cell_type": "code",
   "execution_count": 16,
   "metadata": {},
   "outputs": [
    {
     "name": "stderr",
     "output_type": "stream",
     "text": [
      "Warning message in NextMethod(\"[\"):\n",
      "\"NAs introduced by coercion\""
     ]
    },
    {
     "data": {
      "text/html": [
       "4"
      ],
      "text/latex": [
       "4"
      ],
      "text/markdown": [
       "4"
      ],
      "text/plain": [
       "[1] 4"
      ]
     },
     "metadata": {},
     "output_type": "display_data"
    },
    {
     "name": "stderr",
     "output_type": "stream",
     "text": [
      "Warning message in NextMethod(\"[\"):\n",
      "\"NAs introduced by coercion\""
     ]
    }
   ],
   "source": [
    "#cleaning of feature: state and zip code\n",
    "#chose rows with state/zip not being NA\n",
    "house_rent <- house_rent[!is.na(house_rent$state) & !is.na(house_rent$zip),]\n",
    "#zip code completion for zip codes equals 5 digits (add 0 in the front)\n",
    "length(house_rent$zip[as.numeric(as.character(house_rent$zip))<1000])\n",
    "#since those less than 4 digits are only four records, so delete the records\n",
    "house_rent <- house_rent[house_rent$zip[as.numeric(as.character(house_rent$zip))>=1000],]"
   ]
  },
  {
   "cell_type": "code",
   "execution_count": 17,
   "metadata": {},
   "outputs": [
    {
     "data": {
      "text/html": [
       "<dl class=dl-horizontal>\n",
       "\t<dt>0%</dt>\n",
       "\t\t<dd>599</dd>\n",
       "\t<dt>1%</dt>\n",
       "\t\t<dd>975</dd>\n",
       "\t<dt>99.99%</dt>\n",
       "\t\t<dd>97109</dd>\n",
       "\t<dt>100%</dt>\n",
       "\t\t<dd>155487</dd>\n",
       "</dl>\n"
      ],
      "text/latex": [
       "\\begin{description*}\n",
       "\\item[0\\textbackslash{}\\%] 599\n",
       "\\item[1\\textbackslash{}\\%] 975\n",
       "\\item[99.99\\textbackslash{}\\%] 97109\n",
       "\\item[100\\textbackslash{}\\%] 155487\n",
       "\\end{description*}\n"
      ],
      "text/markdown": [
       "0%\n",
       ":   5991%\n",
       ":   97599.99%\n",
       ":   97109100%\n",
       ":   155487\n",
       "\n"
      ],
      "text/plain": [
       "    0%     1% 99.99%   100% \n",
       "   599    975  97109 155487 "
      ]
     },
     "metadata": {},
     "output_type": "display_data"
    },
    {
     "name": "stderr",
     "output_type": "stream",
     "text": [
      "Warning message:\n",
      "\"Removed 198 rows containing non-finite values (stat_bin).\""
     ]
    },
    {
     "data": {},
     "metadata": {},
     "output_type": "display_data"
    },
    {
     "data": {
      "image/png": "[encoded data removed]",
      "text/plain": [
       "plot without title"
      ]
     },
     "metadata": {},
     "output_type": "display_data"
    }
   ],
   "source": [
    "#cleaning of feature:rentzestimate_amount\n",
    "house_rent$rentzestimate_amount <- imp.median(house_rent$rentzestimate_amount) #interpolate median\n",
    "\n",
    "quantile(house_rent$rentzestimate, c(0,0.01,0.9999,1), na.rm = TRUE) \n",
    "#visualization -- right-skewed\n",
    "ggplot(house_rent, aes(rentzestimate_amount)) +\n",
    "  geom_histogram(binwidth = 1000) + \n",
    "  xlim(0,50000)"
   ]
  },
  {
   "cell_type": "code",
   "execution_count": 18,
   "metadata": {},
   "outputs": [
    {
     "data": {
      "text/plain": [
       "  unique_id           bathrooms         bedrooms               city       \n",
       " Length:221947      Min.   : 0.000   Min.   : 0.000   Austin     : 65399  \n",
       " Class :character   1st Qu.: 2.000   1st Qu.: 3.000   Palm Desert: 12185  \n",
       " Mode  :character   Median : 3.000   Median : 4.000   Georgetown : 12024  \n",
       "                    Mean   : 3.279   Mean   : 3.516   Leander    : 11486  \n",
       "                    3rd Qu.: 4.000   3rd Qu.: 4.000   La Quinta  : 10670  \n",
       "                    Max.   :18.804   Max.   :13.000   (Other)    :110182  \n",
       "                    NA's   :1        NA's   :1        NA's       :     1  \n",
       "   list_price          latitude       longitude         property_type   \n",
       " Min.   :    5000   Min.   :29.48   Min.   :-120.59   RESI     :189931  \n",
       " 1st Qu.:  303900   1st Qu.:30.30   1st Qu.: -98.36   APT      : 25893  \n",
       " Median :  450000   Median :30.48   Median : -97.87   COND     :  4531  \n",
       " Mean   :  820416   Mean   :31.19   Mean   :-101.79   MULT     :  1527  \n",
       " 3rd Qu.:  749000   3rd Qu.:31.10   3rd Qu.: -97.73   Timeshare:    64  \n",
       " Max.   :65000000   Max.   :37.87   Max.   : -84.40   (Other)  :     0  \n",
       " NA's   :1          NA's   :1       NA's   :1         NA's     :     1  \n",
       "    lot_sqft            sqft           state          year_built  \n",
       " Min.   :      1   Min.   :  432   TX     :172446   Min.   :1000  \n",
       " 1st Qu.:   5227   1st Qu.: 1868   CA     : 49491   1st Qu.:1989  \n",
       " Median :   9200   Median : 2579   GA     :     9   Median :2005  \n",
       " Mean   :  12074   Mean   : 2856          :     0   Mean   :1998  \n",
       " 3rd Qu.:   9200   3rd Qu.: 3442   AK     :     0   3rd Qu.:2015  \n",
       " Max.   :4318364   Max.   :15874   (Other):     0   Max.   :2017  \n",
       " NA's   :1         NA's   :1       NA's   :     1   NA's   :1     \n",
       "      zip         rentzestimate_amount\n",
       " 78641  : 11723   Min.   :   599      \n",
       " 92253  : 10678   1st Qu.:  2029      \n",
       " 78738  :  8432   Median :  2700      \n",
       " 78660  :  7364   Mean   :  4069      \n",
       " 92260  :  6587   3rd Qu.:  3595      \n",
       " (Other):177162   Max.   :155487      \n",
       " NA's   :     1                       "
      ]
     },
     "metadata": {},
     "output_type": "display_data"
    }
   ],
   "source": [
    "#checked the statistics of the cleaned dataset again\n",
    "summary(house_rent)\n",
    "#save as csv\n",
    "write.csv(house_rent,'house_rent.csv')"
   ]
  }
 ],
 "metadata": {
  "kernelspec": {
   "display_name": "R",
   "language": "R",
   "name": "ir"
  },
  "language_info": {
   "codemirror_mode": "r",
   "file_extension": ".r",
   "mimetype": "text/x-r-source",
   "name": "R",
   "pygments_lexer": "r",
   "version": "3.3.2"
  }
 },
 "nbformat": 4,
 "nbformat_minor": 2
}
