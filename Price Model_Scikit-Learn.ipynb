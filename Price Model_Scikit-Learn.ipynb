{
 "cells": [
  {
   "cell_type": "markdown",
   "metadata": {
    "deletable": true,
    "editable": true
   },
   "source": [
    "# Predictive Model"
   ]
  },
  {
   "cell_type": "code",
   "execution_count": 1,
   "metadata": {
    "collapsed": true,
    "deletable": true,
    "editable": true
   },
   "outputs": [],
   "source": [
    "import pandas as pd\n",
    "import numpy as np\n",
    "\n",
    "#load data\n",
    "house_rent = pd.read_csv('house_rent_2.csv', header = 0, na_values = [' ','NA','NAN','None','','N/A'])"
   ]
  },
  {
   "cell_type": "code",
   "execution_count": 2,
   "metadata": {
    "collapsed": false,
    "deletable": true,
    "editable": true
   },
   "outputs": [
    {
     "name": "stdout",
     "output_type": "stream",
     "text": [
      "(329503, 15)\n",
      "Unnamed: 0              329503\n",
      "unique_id               329503\n",
      "bathrooms               329503\n",
      "bedrooms                329503\n",
      "city                    329238\n",
      "list_price              329503\n",
      "latitude                329503\n",
      "longitude               329503\n",
      "property_type           329503\n",
      "lot_sqft                329503\n",
      "sqft                    329503\n",
      "state                   329503\n",
      "year_built              329503\n",
      "zip                     329503\n",
      "rentzestimate_amount    176420\n",
      "dtype: int64\n"
     ]
    }
   ],
   "source": [
    "#check data structure\n",
    "print(house_rent.shape)\n",
    "print(house_rent.count())"
   ]
  },
  {
   "cell_type": "code",
   "execution_count": 3,
   "metadata": {
    "collapsed": false,
    "deletable": true,
    "editable": true
   },
   "outputs": [],
   "source": [
    "#check NA\n",
    "# house_rent.loc[house_rent['year_built'].isnull()==True]"
   ]
  },
  {
   "cell_type": "code",
   "execution_count": 4,
   "metadata": {
    "collapsed": false,
    "deletable": true,
    "editable": true
   },
   "outputs": [
    {
     "name": "stdout",
     "output_type": "stream",
     "text": [
      "Unnamed: 0                int64\n",
      "unique_id                object\n",
      "bathrooms               float64\n",
      "bedrooms                  int64\n",
      "city                     object\n",
      "list_price              float64\n",
      "latitude                float64\n",
      "longitude               float64\n",
      "property_type            object\n",
      "lot_sqft                float64\n",
      "sqft                    float64\n",
      "state                    object\n",
      "year_built                int64\n",
      "zip                       int64\n",
      "rentzestimate_amount    float64\n",
      "dtype: object\n"
     ]
    }
   ],
   "source": [
    "# #remove NA\n",
    "# house_rent = house_rent.loc[house_rent['year_built'].isnull()== False]\n",
    "#check data type\n",
    "print(house_rent.dtypes)"
   ]
  },
  {
   "cell_type": "code",
   "execution_count": 5,
   "metadata": {
    "collapsed": true,
    "deletable": true,
    "editable": true
   },
   "outputs": [],
   "source": [
    "#change zip code data type from float to string\n",
    "house_rent.zip = house_rent.zip.astype(str)\n",
    "# #change year_built data type from float to int\n",
    "# house_rent.year_built = house_rent.year_built.astype(np.int64)\n",
    "#create two variables: year_from_now and log_rent(the rent is right-skewed, log transformation on rent)\n",
    "import datetime\n",
    "house_rent['year_from_now'] = datetime.date.today().year - house_rent['year_built']\n",
    "house_rent['log_rent'] = np.log(house_rent['rentzestimate_amount'])\n",
    "# house_rent['log_lotsqft'] = np.log(house_rent['lot_sqft'])\n",
    "# house_rent['log_listprice'] = np.log(house_rent['list_price'])"
   ]
  },
  {
   "cell_type": "code",
   "execution_count": 6,
   "metadata": {
    "collapsed": true,
    "deletable": true,
    "editable": true
   },
   "outputs": [],
   "source": [
    "# house_rent.loc[house_rent['lot_sqft']== 0,'log_lotsqft'] = 0"
   ]
  },
  {
   "cell_type": "code",
   "execution_count": 7,
   "metadata": {
    "collapsed": true,
    "deletable": true,
    "editable": true
   },
   "outputs": [],
   "source": [
    "#categorical variables: create dummies(state and property type)\n",
    "#zip and city have too many levels, so I don't include them in the prediction\n",
    "# state = pd.get_dummies(house_rent['state']).add_suffix('_state')\n",
    "property_type = pd.get_dummies(house_rent['property_type']).add_suffix('_type')\n",
    "house_rent_dummy = pd.concat([house_rent,property_type],axis = 1)"
   ]
  },
  {
   "cell_type": "code",
   "execution_count": 10,
   "metadata": {
    "collapsed": false,
    "deletable": true,
    "editable": true
   },
   "outputs": [
    {
     "name": "stdout",
     "output_type": "stream",
     "text": [
      "(176420, 20)\n",
      "   bathrooms  bedrooms  list_price   latitude  longitude  lot_sqft    sqft  \\\n",
      "1        1.0         1     79500.0  30.587296 -98.401404    8712.0   957.0   \n",
      "2        1.0         1     79500.0  30.587296 -98.401404    8712.0   957.0   \n",
      "3        1.0         1    119000.0  30.587296 -98.401404    8712.0   957.0   \n",
      "4        2.0         2    342850.0  30.742224 -98.444951       1.0  1592.0   \n",
      "5        3.0         4    700000.0  30.546524 -97.797834       2.0  2808.0   \n",
      "\n",
      "   year_from_now  log_rent  APT_type  COND_type  COOP_type  \\\n",
      "1             35  6.856462         1          0          0   \n",
      "2             35  6.802395         1          0          0   \n",
      "3             35  6.856462         1          0          0   \n",
      "4             17  7.488294         0          0          0   \n",
      "5             24  8.034955         0          0          0   \n",
      "\n",
      "   Country Homes/Acreag_type  FARM_type  LAND_type  MULT_type  OTHER_type  \\\n",
      "1                          0          0          0          0           0   \n",
      "2                          0          0          0          0           0   \n",
      "3                          0          0          0          0           0   \n",
      "4                          0          0          0          0           0   \n",
      "5                          0          0          0          0           0   \n",
      "\n",
      "   RENT_type  RESI_type  Timeshare_type  \n",
      "1          0          0               0  \n",
      "2          0          0               0  \n",
      "3          0          0               0  \n",
      "4          0          1               0  \n",
      "5          0          1               0  \n",
      "(153083, 20)\n",
      "    bathrooms  bedrooms  list_price   latitude  longitude  lot_sqft    sqft  \\\n",
      "0         2.0         2    249900.0  30.889162 -98.465741       1.0  2324.0   \n",
      "6         3.0         4    550000.0  30.129987 -97.779938       4.0  2500.0   \n",
      "10        1.0         3     38528.0  33.208160 -88.116701       0.0  1123.0   \n",
      "16        2.0         4     29500.0  42.433614 -82.996288    8712.0  1431.0   \n",
      "19        1.0         2     25000.0  33.208160 -88.116701    8712.0  1165.0   \n",
      "\n",
      "    year_from_now  log_rent  APT_type  COND_type  COOP_type  \\\n",
      "0              67       NaN         0          0          0   \n",
      "6               2       NaN         0          0          0   \n",
      "10             57       NaN         0          0          0   \n",
      "16             78       NaN         0          0          0   \n",
      "19             87       NaN         0          0          0   \n",
      "\n",
      "    Country Homes/Acreag_type  FARM_type  LAND_type  MULT_type  OTHER_type  \\\n",
      "0                           0          0          0          0           0   \n",
      "6                           0          0          0          0           0   \n",
      "10                          0          0          0          0           0   \n",
      "16                          0          0          0          0           0   \n",
      "19                          0          0          0          0           0   \n",
      "\n",
      "    RENT_type  RESI_type  Timeshare_type  \n",
      "0           0          1               0  \n",
      "6           0          1               0  \n",
      "10          0          1               0  \n",
      "16          0          1               0  \n",
      "19          0          1               0  \n"
     ]
    }
   ],
   "source": [
    "#divide the dataset into two datasets based on the existence of target variable\n",
    "property_price_all = house_rent_dummy.loc[:,~house_rent_dummy.columns.isin(['Unnamed: 0','unique_id','city','property_type',\n",
    "                                                                        'state','year_built','zip','rentzestimate_amount'\n",
    "                                                       ])]\n",
    "#rentzestimate_amount exits  \n",
    "property_price_valid = property_price_all.loc[property_price_all['log_rent'].isnull()==False] \n",
    "#NA in rentzestimate_amount, to be predicted                                                                           \n",
    "property_price_tobe = property_price_all.loc[property_price_all['log_rent'].isnull()==True] \n",
    "print(property_price_valid.shape)\n",
    "print(property_price_valid.head(5))\n",
    "print(property_price_tobe.shape)\n",
    "print(property_price_tobe.head(5))"
   ]
  },
  {
   "cell_type": "code",
   "execution_count": 12,
   "metadata": {
    "collapsed": false,
    "deletable": true,
    "editable": true
   },
   "outputs": [
    {
     "name": "stdout",
     "output_type": "stream",
     "text": [
      "(17642, 20)\n"
     ]
    },
    {
     "data": {
      "text/html": [
       "<div>\n",
       "<table border=\"1\" class=\"dataframe\">\n",
       "  <thead>\n",
       "    <tr style=\"text-align: right;\">\n",
       "      <th></th>\n",
       "      <th>bathrooms</th>\n",
       "      <th>bedrooms</th>\n",
       "      <th>list_price</th>\n",
       "      <th>latitude</th>\n",
       "      <th>longitude</th>\n",
       "      <th>lot_sqft</th>\n",
       "      <th>sqft</th>\n",
       "      <th>year_from_now</th>\n",
       "      <th>log_rent</th>\n",
       "      <th>APT_type</th>\n",
       "      <th>COND_type</th>\n",
       "      <th>COOP_type</th>\n",
       "      <th>Country Homes/Acreag_type</th>\n",
       "      <th>FARM_type</th>\n",
       "      <th>LAND_type</th>\n",
       "      <th>MULT_type</th>\n",
       "      <th>OTHER_type</th>\n",
       "      <th>RENT_type</th>\n",
       "      <th>RESI_type</th>\n",
       "      <th>Timeshare_type</th>\n",
       "    </tr>\n",
       "  </thead>\n",
       "  <tbody>\n",
       "    <tr>\n",
       "      <th>71363</th>\n",
       "      <td>3.0</td>\n",
       "      <td>4</td>\n",
       "      <td>749900.0</td>\n",
       "      <td>33.549054</td>\n",
       "      <td>-116.990608</td>\n",
       "      <td>160736.0</td>\n",
       "      <td>2359.0</td>\n",
       "      <td>44</td>\n",
       "      <td>8.247220</td>\n",
       "      <td>0</td>\n",
       "      <td>0</td>\n",
       "      <td>0</td>\n",
       "      <td>0</td>\n",
       "      <td>0</td>\n",
       "      <td>0</td>\n",
       "      <td>0</td>\n",
       "      <td>0</td>\n",
       "      <td>0</td>\n",
       "      <td>1</td>\n",
       "      <td>0</td>\n",
       "    </tr>\n",
       "    <tr>\n",
       "      <th>114862</th>\n",
       "      <td>0.0</td>\n",
       "      <td>3</td>\n",
       "      <td>299900.0</td>\n",
       "      <td>29.679956</td>\n",
       "      <td>-95.428505</td>\n",
       "      <td>6545.0</td>\n",
       "      <td>2012.0</td>\n",
       "      <td>24</td>\n",
       "      <td>7.244228</td>\n",
       "      <td>0</td>\n",
       "      <td>0</td>\n",
       "      <td>0</td>\n",
       "      <td>0</td>\n",
       "      <td>0</td>\n",
       "      <td>1</td>\n",
       "      <td>0</td>\n",
       "      <td>0</td>\n",
       "      <td>0</td>\n",
       "      <td>0</td>\n",
       "      <td>0</td>\n",
       "    </tr>\n",
       "    <tr>\n",
       "      <th>164534</th>\n",
       "      <td>3.0</td>\n",
       "      <td>2</td>\n",
       "      <td>1500000.0</td>\n",
       "      <td>40.801573</td>\n",
       "      <td>-73.647159</td>\n",
       "      <td>8712.0</td>\n",
       "      <td>3041.0</td>\n",
       "      <td>1</td>\n",
       "      <td>8.768419</td>\n",
       "      <td>1</td>\n",
       "      <td>0</td>\n",
       "      <td>0</td>\n",
       "      <td>0</td>\n",
       "      <td>0</td>\n",
       "      <td>0</td>\n",
       "      <td>0</td>\n",
       "      <td>0</td>\n",
       "      <td>0</td>\n",
       "      <td>0</td>\n",
       "      <td>0</td>\n",
       "    </tr>\n",
       "    <tr>\n",
       "      <th>111209</th>\n",
       "      <td>1.0</td>\n",
       "      <td>3</td>\n",
       "      <td>349900.0</td>\n",
       "      <td>29.798590</td>\n",
       "      <td>-95.408696</td>\n",
       "      <td>5000.0</td>\n",
       "      <td>988.0</td>\n",
       "      <td>92</td>\n",
       "      <td>7.377759</td>\n",
       "      <td>0</td>\n",
       "      <td>0</td>\n",
       "      <td>0</td>\n",
       "      <td>0</td>\n",
       "      <td>0</td>\n",
       "      <td>0</td>\n",
       "      <td>0</td>\n",
       "      <td>0</td>\n",
       "      <td>0</td>\n",
       "      <td>1</td>\n",
       "      <td>0</td>\n",
       "    </tr>\n",
       "    <tr>\n",
       "      <th>198819</th>\n",
       "      <td>2.0</td>\n",
       "      <td>3</td>\n",
       "      <td>279900.0</td>\n",
       "      <td>27.761389</td>\n",
       "      <td>-82.400963</td>\n",
       "      <td>6031.0</td>\n",
       "      <td>2180.0</td>\n",
       "      <td>11</td>\n",
       "      <td>7.408531</td>\n",
       "      <td>0</td>\n",
       "      <td>0</td>\n",
       "      <td>0</td>\n",
       "      <td>0</td>\n",
       "      <td>0</td>\n",
       "      <td>0</td>\n",
       "      <td>0</td>\n",
       "      <td>0</td>\n",
       "      <td>0</td>\n",
       "      <td>1</td>\n",
       "      <td>0</td>\n",
       "    </tr>\n",
       "  </tbody>\n",
       "</table>\n",
       "</div>"
      ],
      "text/plain": [
       "        bathrooms  bedrooms  list_price   latitude   longitude  lot_sqft  \\\n",
       "71363         3.0         4    749900.0  33.549054 -116.990608  160736.0   \n",
       "114862        0.0         3    299900.0  29.679956  -95.428505    6545.0   \n",
       "164534        3.0         2   1500000.0  40.801573  -73.647159    8712.0   \n",
       "111209        1.0         3    349900.0  29.798590  -95.408696    5000.0   \n",
       "198819        2.0         3    279900.0  27.761389  -82.400963    6031.0   \n",
       "\n",
       "          sqft  year_from_now  log_rent  APT_type  COND_type  COOP_type  \\\n",
       "71363   2359.0             44  8.247220         0          0          0   \n",
       "114862  2012.0             24  7.244228         0          0          0   \n",
       "164534  3041.0              1  8.768419         1          0          0   \n",
       "111209   988.0             92  7.377759         0          0          0   \n",
       "198819  2180.0             11  7.408531         0          0          0   \n",
       "\n",
       "        Country Homes/Acreag_type  FARM_type  LAND_type  MULT_type  \\\n",
       "71363                           0          0          0          0   \n",
       "114862                          0          0          1          0   \n",
       "164534                          0          0          0          0   \n",
       "111209                          0          0          0          0   \n",
       "198819                          0          0          0          0   \n",
       "\n",
       "        OTHER_type  RENT_type  RESI_type  Timeshare_type  \n",
       "71363            0          0          1               0  \n",
       "114862           0          0          0               0  \n",
       "164534           0          0          0               0  \n",
       "111209           0          0          1               0  \n",
       "198819           0          0          1               0  "
      ]
     },
     "execution_count": 12,
     "metadata": {},
     "output_type": "execute_result"
    }
   ],
   "source": [
    "# 10% sample to select the model first\n",
    "property_price = property_price_valid.sample(frac = 0.1)\n",
    "print(property_price.shape)\n",
    "property_price.head()"
   ]
  },
  {
   "cell_type": "code",
   "execution_count": 13,
   "metadata": {
    "collapsed": false,
    "deletable": true,
    "editable": true
   },
   "outputs": [
    {
     "data": {
      "text/plain": [
       "bathrooms                    float64\n",
       "bedrooms                       int64\n",
       "list_price                   float64\n",
       "latitude                     float64\n",
       "longitude                    float64\n",
       "lot_sqft                     float64\n",
       "sqft                         float64\n",
       "year_from_now                  int64\n",
       "log_rent                     float64\n",
       "APT_type                       uint8\n",
       "COND_type                      uint8\n",
       "COOP_type                      uint8\n",
       "Country Homes/Acreag_type      uint8\n",
       "FARM_type                      uint8\n",
       "LAND_type                      uint8\n",
       "MULT_type                      uint8\n",
       "OTHER_type                     uint8\n",
       "RENT_type                      uint8\n",
       "RESI_type                      uint8\n",
       "Timeshare_type                 uint8\n",
       "dtype: object"
      ]
     },
     "execution_count": 13,
     "metadata": {},
     "output_type": "execute_result"
    }
   ],
   "source": [
    "property_price.dtypes"
   ]
  },
  {
   "cell_type": "code",
   "execution_count": 14,
   "metadata": {
    "collapsed": false,
    "deletable": true,
    "editable": true
   },
   "outputs": [
    {
     "name": "stdout",
     "output_type": "stream",
     "text": [
      "target:        log_rent\n",
      "71363   8.247220\n",
      "114862  7.244228\n",
      "164534  8.768419\n",
      "111209  7.377759\n",
      "198819  7.408531\n",
      "features:        bathrooms  bedrooms  list_price   latitude   longitude  lot_sqft  \\\n",
      "71363         3.0         4    749900.0  33.549054 -116.990608  160736.0   \n",
      "114862        0.0         3    299900.0  29.679956  -95.428505    6545.0   \n",
      "164534        3.0         2   1500000.0  40.801573  -73.647159    8712.0   \n",
      "111209        1.0         3    349900.0  29.798590  -95.408696    5000.0   \n",
      "198819        2.0         3    279900.0  27.761389  -82.400963    6031.0   \n",
      "\n",
      "          sqft  year_from_now  APT_type  COND_type  COOP_type  \\\n",
      "71363   2359.0             44         0          0          0   \n",
      "114862  2012.0             24         0          0          0   \n",
      "164534  3041.0              1         1          0          0   \n",
      "111209   988.0             92         0          0          0   \n",
      "198819  2180.0             11         0          0          0   \n",
      "\n",
      "        Country Homes/Acreag_type  FARM_type  LAND_type  MULT_type  \\\n",
      "71363                           0          0          0          0   \n",
      "114862                          0          0          1          0   \n",
      "164534                          0          0          0          0   \n",
      "111209                          0          0          0          0   \n",
      "198819                          0          0          0          0   \n",
      "\n",
      "        OTHER_type  RENT_type  RESI_type  Timeshare_type  \n",
      "71363            0          0          1               0  \n",
      "114862           0          0          0               0  \n",
      "164534           0          0          0               0  \n",
      "111209           0          0          1               0  \n",
      "198819           0          0          1               0  \n"
     ]
    }
   ],
   "source": [
    "#define features dataset(x) and target vector(y)\n",
    "target = property_price.loc[:,property_price.columns.isin(['log_rent'])]\n",
    "print('target:%s' %target.head())\n",
    "\n",
    "features = property_price.loc[:,~property_price.columns.isin(['log_rent'])]\n",
    "print('features:%s'%features.head())"
   ]
  },
  {
   "cell_type": "code",
   "execution_count": 15,
   "metadata": {
    "collapsed": false,
    "deletable": true,
    "editable": true
   },
   "outputs": [
    {
     "name": "stderr",
     "output_type": "stream",
     "text": [
      "C:\\Users\\Hanyuan CHI\\AppData\\Local\\Enthought\\Canopy\\edm\\envs\\User\\lib\\site-packages\\sklearn\\cross_validation.py:44: DeprecationWarning: This module was deprecated in version 0.18 in favor of the model_selection module into which all the refactored classes and functions are moved. Also note that the interface of the new CV iterators are different from that of this module. This module will be removed in 0.20.\n",
      "  \"This module will be removed in 0.20.\", DeprecationWarning)\n"
     ]
    }
   ],
   "source": [
    "from sklearn import linear_model,metrics,preprocessing,svm,cross_validation\n",
    "from sklearn.linear_model import LinearRegression, Lasso, Ridge, ElasticNet\n",
    "from sklearn.tree import DecisionTreeRegressor\n",
    "from sklearn.neural_network import MLPRegressor\n",
    "from sklearn.neighbors import KNeighborsRegressor\n",
    "from sklearn.ensemble import RandomForestRegressor, ExtraTreesRegressor,GradientBoostingRegressor,AdaBoostRegressor\n",
    "from sklearn.cross_validation import train_test_split,cross_val_score,KFold\n",
    "from sklearn.decomposition import PCA\n",
    "from sklearn.model_selection import train_test_split\n",
    "from sklearn.ensemble import BaggingRegressor\n",
    "from sklearn.preprocessing import normalize"
   ]
  },
  {
   "cell_type": "code",
   "execution_count": 16,
   "metadata": {
    "collapsed": true,
    "deletable": true,
    "editable": true
   },
   "outputs": [],
   "source": [
    "#standard normalization for each feature\n",
    "standard_norm = preprocessing.StandardScaler()\n",
    "feature_norm_part1 = standard_norm.fit_transform(features.iloc[:,0:8])\n",
    "feature_norm = np.concatenate((feature_norm_part1,np.array(features.iloc[:,8:])),axis = 1)\n",
    "target_array = np.squeeze(target.values)"
   ]
  },
  {
   "cell_type": "code",
   "execution_count": 17,
   "metadata": {
    "collapsed": true,
    "deletable": true,
    "editable": true
   },
   "outputs": [],
   "source": [
    "#split training dataset and testing dataset\n",
    "X_train, X_test, y_train, y_test = train_test_split(\n",
    "    feature_norm, target_array, test_size=0.3, random_state=0)"
   ]
  },
  {
   "cell_type": "code",
   "execution_count": 18,
   "metadata": {
    "collapsed": false,
    "deletable": true,
    "editable": true
   },
   "outputs": [
    {
     "name": "stdout",
     "output_type": "stream",
     "text": [
      "Method: neural network\n",
      "RMSE on testing: 0.2568\n",
      "RMSE on CV: 0.2720\n",
      "MSE on testing: 0.0660\n",
      "MSE on CV: 0.0740\n",
      "MAE on testing: 0.1536\n",
      "MAE on CV: 0.1606\n",
      "\n",
      "\n",
      "Method: regression tree\n",
      "RMSE on testing: 0.2600\n",
      "RMSE on CV: 0.2737\n",
      "MSE on testing: 0.0676\n",
      "MSE on CV: 0.0749\n",
      "MAE on testing: 0.1548\n",
      "MAE on CV: 0.1593\n",
      "\n",
      "\n",
      "Method: linear regression\n",
      "RMSE on testing: 0.4678\n",
      "RMSE on CV: 0.4981\n",
      "MSE on testing: 0.2188\n",
      "MSE on CV: 0.2481\n",
      "MAE on testing: 0.3405\n",
      "MAE on CV: 0.3461\n",
      "\n",
      "\n",
      "Method: ridge regression\n",
      "RMSE on testing: 0.4678\n",
      "RMSE on CV: 0.4981\n",
      "MSE on testing: 0.2188\n",
      "MSE on CV: 0.2481\n",
      "MAE on testing: 0.3405\n",
      "MAE on CV: 0.3461\n",
      "\n",
      "\n",
      "Method: lasso regression\n",
      "RMSE on testing: 0.6104\n",
      "RMSE on CV: 0.6138\n",
      "MSE on testing: 0.3726\n",
      "MSE on CV: 0.3767\n",
      "MAE on testing: 0.4547\n",
      "MAE on CV: 0.4590\n",
      "\n",
      "\n",
      "Method: elastic-net regularization\n",
      "RMSE on testing: 0.5324\n",
      "RMSE on CV: 0.5412\n",
      "MSE on testing: 0.2834\n",
      "MSE on CV: 0.2929\n",
      "MAE on testing: 0.4005\n",
      "MAE on CV: 0.4042\n",
      "\n",
      "\n",
      "Method: KNN\n",
      "RMSE on testing: 0.3508\n",
      "RMSE on CV: 0.3682\n",
      "MSE on testing: 0.1231\n",
      "MSE on CV: 0.1356\n",
      "MAE on testing: 0.2301\n",
      "MAE on CV: 0.2437\n",
      "\n",
      "\n",
      "Method: random forests regressor\n",
      "RMSE on testing: 0.2179\n",
      "RMSE on CV: 0.2344\n",
      "MSE on testing: 0.0475\n",
      "MSE on CV: 0.0549\n",
      "MAE on testing: 0.1305\n",
      "MAE on CV: 0.1357\n",
      "\n",
      "\n",
      "Method: extra trees regressor\n",
      "RMSE on testing: 0.2505\n",
      "RMSE on CV: 0.2649\n",
      "MSE on testing: 0.0628\n",
      "MSE on CV: 0.0702\n",
      "MAE on testing: 0.1574\n",
      "MAE on CV: 0.1653\n",
      "\n",
      "\n",
      "Method: gradient boosting regressor\n",
      "RMSE on testing: 0.2061\n",
      "RMSE on CV: 0.2239\n",
      "MSE on testing: 0.0425\n",
      "MSE on CV: 0.0501\n",
      "MAE on testing: 0.1169\n",
      "MAE on CV: 0.1229\n",
      "\n",
      "\n",
      "Method: adaBoost regressor\n",
      "RMSE on testing: 0.2165\n",
      "RMSE on CV: 0.2364\n",
      "MSE on testing: 0.0469\n",
      "MSE on CV: 0.0559\n",
      "MAE on testing: 0.1337\n",
      "MAE on CV: 0.1391\n",
      "\n",
      "\n",
      "Method: bagging regressor\n",
      "RMSE on testing: 0.2147\n",
      "RMSE on CV: 0.2317\n",
      "MSE on testing: 0.0461\n",
      "MSE on CV: 0.0537\n",
      "MAE on testing: 0.1212\n",
      "MAE on CV: 0.1281\n",
      "\n",
      "\n"
     ]
    }
   ],
   "source": [
    "#run regression models and calculate mse(mean squared error),rmse(root mean square error)and mae(mean absolute error)\n",
    "#rmse on testing set shows the model generalization performance, which is used as model selection\n",
    "for name,met in [\n",
    "        ('neural network',MLPRegressor(hidden_layer_sizes=(30,30,30), activation='logistic', \n",
    "                                       solver='lbfgs', alpha=0.001)),\n",
    "        ('regression tree',DecisionTreeRegressor(max_depth=20, min_samples_leaf= 5, min_samples_split= 5)),\n",
    "        ('linear regression', LinearRegression()),\n",
    "        ('ridge regression', Ridge(fit_intercept=True, alpha=0.3)),\n",
    "        ('lasso regression', Lasso(fit_intercept=True, alpha=0.3)),\n",
    "        ('elastic-net regularization', ElasticNet(fit_intercept=True, alpha=0.3)),\n",
    "        ('KNN', KNeighborsRegressor(n_neighbors=2,metric = 'euclidean')),\n",
    "        ('random forests regressor', RandomForestRegressor(n_estimators=100, criterion='mse', max_depth= 10, \n",
    "                            min_samples_split=2, min_samples_leaf=1, min_weight_fraction_leaf=0.0, \n",
    "                            max_features='auto', random_state=0)),\n",
    "        ('extra trees regressor', ExtraTreesRegressor(n_estimators=100, criterion='mse', max_depth=10, \n",
    "                                                      min_samples_split=2, min_samples_leaf=1, \n",
    "                                                      min_weight_fraction_leaf=0.0, random_state=0)),\n",
    "        ('gradient boosting regressor', GradientBoostingRegressor(loss='ls', alpha=0.95,\n",
    "                                n_estimators=100, max_depth=10,\n",
    "                                learning_rate=.1)),\n",
    "        ('adaBoost regressor', AdaBoostRegressor(DecisionTreeRegressor(max_depth=10, min_samples_leaf= 5, min_samples_split= 5), \n",
    "                                                n_estimators=100, learning_rate=0.1, loss='linear', random_state=0)),\n",
    "        ('bagging regressor',BaggingRegressor(DecisionTreeRegressor(max_depth=20, min_samples_leaf= 5, min_samples_split= 5),\n",
    "                                              n_estimators=100,max_samples=1.0, max_features=1.0, random_state=0))\n",
    "        ]:\n",
    "    #cross validation to calculate rmse,mse,mae\n",
    "    mse_cv = -cross_validation.cross_val_score(met, X_train, y_train, scoring='neg_mean_squared_error', cv=5,).mean()\n",
    "    mae_cv = -cross_validation.cross_val_score(met, X_train, y_train, scoring='neg_mean_absolute_error', cv=5,).mean()\n",
    "    rmse_cv = np.sqrt(abs(mse_cv))\n",
    "    #generalizaton performance of the model on testing set\n",
    "    met.fit(X_train, y_train)\n",
    "    y_pred = met.predict(X_test)\n",
    "    mse_test = metrics.mean_squared_error(y_test, y_pred)\n",
    "    mae_test = metrics.mean_absolute_error(y_test, y_pred)\n",
    "    rmse_test = np.sqrt(mse_test)\n",
    "  \n",
    "    print('Method: %s' %name)\n",
    "    print('RMSE on testing: %.4f' %rmse_test)\n",
    "    print('RMSE on CV: %.4f' %rmse_cv)\n",
    "    print('MSE on testing: %.4f' %mse_test)\n",
    "    print('MSE on CV: %.4f' %mse_cv)\n",
    "    print('MAE on testing: %.4f' %mae_test)\n",
    "    print('MAE on CV: %.4f' %mae_cv)\n",
    "    print(\"\\n\")"
   ]
  },
  {
   "cell_type": "markdown",
   "metadata": {
    "deletable": true,
    "editable": true
   },
   "source": [
    "With this sample, the performances of random forests, gradient boosting, adaBoost on Regression Tree and Bagging on Regression Tree are actually very similar in terms of RMSE testing set. Here we pick these four models out given their small RMSE on testing set, so now fit the model on the whole dataset to see its generalization performance."
   ]
  },
  {
   "cell_type": "code",
   "execution_count": 19,
   "metadata": {
    "collapsed": false,
    "deletable": true,
    "editable": true
   },
   "outputs": [
    {
     "name": "stdout",
     "output_type": "stream",
     "text": [
      "RMSE on testing: 0.2154\n",
      "RMSE on CV: 0.2126\n",
      "MSE on testing: 0.0464\n",
      "MSE on CV: 0.0452\n",
      "MAE on testing: 0.1284\n",
      "MAE on CV: 0.1271\n"
     ]
    }
   ],
   "source": [
    "#Random Forest\n",
    "\n",
    "#define x and y\n",
    "target = property_price_valid.loc[:,property_price_valid.columns.isin(['log_rent'])]\n",
    "\n",
    "features = property_price_valid.loc[:,~property_price_valid.columns.isin(['log_rent'])]\n",
    "\n",
    "#standard normalization for each feature\n",
    "standard_norm = preprocessing.StandardScaler()\n",
    "feature_norm_part1 = standard_norm.fit_transform(features.iloc[:,0:8])\n",
    "feature_norm = np.concatenate((feature_norm_part1,np.array(features.iloc[:,8:])),axis = 1)\n",
    "target_array = np.squeeze(target.values)\n",
    "\n",
    "#split traing and testing sets\n",
    "X_train, X_test, y_train, y_test = train_test_split(\n",
    "    feature_norm, target_array, test_size=0.3, random_state=0)\n",
    "\n",
    "#fit random forests model on training set\n",
    "RF = RandomForestRegressor(n_estimators=100, criterion='mse', max_depth= 10, \n",
    "                            min_samples_split=2, min_samples_leaf=1, min_weight_fraction_leaf=0.0, \n",
    "                            max_features='auto', random_state=0)\n",
    "\n",
    "#use cross-validation to calculate rmse,mse,mae      \n",
    "mse_cv = -cross_validation.cross_val_score(RF, X_train, y_train, scoring='neg_mean_squared_error', cv=5,).mean()\n",
    "mae_cv = -cross_validation.cross_val_score(RF, X_train, y_train, scoring='neg_mean_absolute_error', cv=5,).mean()\n",
    "rmse_cv = np.sqrt(abs(mse_cv))\n",
    "\n",
    "#generalization performance of the model\n",
    "RF.fit(X_train, y_train)\n",
    "y_pred = RF.predict(X_test)\n",
    "mse_test = metrics.mean_squared_error(y_test, y_pred)\n",
    "mae_test = metrics.mean_absolute_error(y_test, y_pred)\n",
    "rmse_test = np.sqrt(mse_test)\n",
    "  \n",
    "print('RMSE on testing: %.4f' %rmse_test)\n",
    "print('RMSE on CV: %.4f' %rmse_cv)\n",
    "print('MSE on testing: %.4f' %mse_test)\n",
    "print('MSE on CV: %.4f' %mse_cv)\n",
    "print('MAE on testing: %.4f' %mae_test)\n",
    "print('MAE on CV: %.4f' %mae_cv)\n"
   ]
  },
  {
   "cell_type": "code",
   "execution_count": 20,
   "metadata": {
    "collapsed": false
   },
   "outputs": [
    {
     "name": "stdout",
     "output_type": "stream",
     "text": [
      "RMSE on testing: 0.1841\n",
      "RMSE on CV: 0.1846\n",
      "MSE on testing: 0.0339\n",
      "MSE on CV: 0.0341\n",
      "MAE on testing: 0.1010\n",
      "MAE on CV: 0.1010\n"
     ]
    }
   ],
   "source": [
    "#fit gradient boosting model on training set\n",
    "GB = GradientBoostingRegressor(loss='ls', alpha=0.95,n_estimators=100, max_depth=10,learning_rate=.1)\n",
    "\n",
    "#use cross-validation to calculate rmse,mse,mae      \n",
    "mse_cv = -cross_validation.cross_val_score(GB, X_train, y_train, scoring='neg_mean_squared_error', cv=5,).mean()\n",
    "mae_cv = -cross_validation.cross_val_score(GB, X_train, y_train, scoring='neg_mean_absolute_error', cv=5,).mean()\n",
    "rmse_cv = np.sqrt(abs(mse_cv))\n",
    "\n",
    "#generalization performance of the model\n",
    "GB.fit(X_train, y_train)\n",
    "y_pred = GB.predict(X_test)\n",
    "mse_test = metrics.mean_squared_error(y_test, y_pred)\n",
    "mae_test = metrics.mean_absolute_error(y_test, y_pred)\n",
    "rmse_test = np.sqrt(mse_test)\n",
    "  \n",
    "print('RMSE on testing: %.4f' %rmse_test)\n",
    "print('RMSE on CV: %.4f' %rmse_cv)\n",
    "print('MSE on testing: %.4f' %mse_test)\n",
    "print('MSE on CV: %.4f' %mse_cv)\n",
    "print('MAE on testing: %.4f' %mae_test)\n",
    "print('MAE on CV: %.4f' %mae_cv)"
   ]
  },
  {
   "cell_type": "code",
   "execution_count": 21,
   "metadata": {
    "collapsed": false
   },
   "outputs": [
    {
     "name": "stdout",
     "output_type": "stream",
     "text": [
      "RMSE on testing: 0.2235\n",
      "RMSE on CV: 0.2176\n",
      "MSE on testing: 0.0500\n",
      "MSE on CV: 0.0474\n",
      "MAE on testing: 0.1418\n",
      "MAE on CV: 0.1386\n"
     ]
    }
   ],
   "source": [
    "Ada = AdaBoostRegressor(DecisionTreeRegressor(max_depth=10, min_samples_leaf= 5, min_samples_split= 5), \n",
    "                                                n_estimators=100, learning_rate=0.1, loss='linear', random_state=0)\n",
    "#use cross-validation to calculate rmse,mse,mae      \n",
    "mse_cv = -cross_validation.cross_val_score(Ada, X_train, y_train, scoring='neg_mean_squared_error', cv=5,).mean()\n",
    "mae_cv = -cross_validation.cross_val_score(Ada, X_train, y_train, scoring='neg_mean_absolute_error', cv=5,).mean()\n",
    "rmse_cv = np.sqrt(abs(mse_cv))\n",
    "\n",
    "#generalization performance of the model\n",
    "Ada.fit(X_train, y_train)\n",
    "y_pred = Ada.predict(X_test)\n",
    "mse_test = metrics.mean_squared_error(y_test, y_pred)\n",
    "mae_test = metrics.mean_absolute_error(y_test, y_pred)\n",
    "rmse_test = np.sqrt(mse_test)\n",
    "  \n",
    "print('RMSE on testing: %.4f' %rmse_test)\n",
    "print('RMSE on CV: %.4f' %rmse_cv)\n",
    "print('MSE on testing: %.4f' %mse_test)\n",
    "print('MSE on CV: %.4f' %mse_cv)\n",
    "print('MAE on testing: %.4f' %mae_test)\n",
    "print('MAE on CV: %.4f' %mae_cv)"
   ]
  },
  {
   "cell_type": "code",
   "execution_count": 22,
   "metadata": {
    "collapsed": false
   },
   "outputs": [
    {
     "name": "stdout",
     "output_type": "stream",
     "text": [
      "RMSE on testing: 0.1936\n",
      "RMSE on CV: 0.1924\n",
      "MSE on testing: 0.0375\n",
      "MSE on CV: 0.0370\n",
      "MAE on testing: 0.1042\n",
      "MAE on CV: 0.1041\n"
     ]
    }
   ],
   "source": [
    "Bag = BaggingRegressor(DecisionTreeRegressor(max_depth=20, min_samples_leaf= 5, min_samples_split= 5),\n",
    "                                              n_estimators=100,max_samples=1.0, max_features=1.0, random_state=0)\n",
    "#use cross-validation to calculate rmse,mse,mae      \n",
    "mse_cv = -cross_validation.cross_val_score(Bag, X_train, y_train, scoring='neg_mean_squared_error', cv=5,).mean()\n",
    "mae_cv = -cross_validation.cross_val_score(Bag, X_train, y_train, scoring='neg_mean_absolute_error', cv=5,).mean()\n",
    "rmse_cv = np.sqrt(abs(mse_cv))\n",
    "\n",
    "#generalization performance of the model\n",
    "Bag.fit(X_train, y_train)\n",
    "y_pred = Bag.predict(X_test)\n",
    "mse_test = metrics.mean_squared_error(y_test, y_pred)\n",
    "mae_test = metrics.mean_absolute_error(y_test, y_pred)\n",
    "rmse_test = np.sqrt(mse_test)\n",
    "  \n",
    "print('RMSE on testing: %.4f' %rmse_test)\n",
    "print('RMSE on CV: %.4f' %rmse_cv)\n",
    "print('MSE on testing: %.4f' %mse_test)\n",
    "print('MSE on CV: %.4f' %mse_cv)\n",
    "print('MAE on testing: %.4f' %mae_test)\n",
    "print('MAE on CV: %.4f' %mae_cv)"
   ]
  },
  {
   "cell_type": "markdown",
   "metadata": {},
   "source": [
    "Gradient Boosting is best when working on the whole dataset. Since mean absolute error on testing set of gradient boosting model is 0.1010, which means log(rent_prediction)-log(rent_true) = +/-0.1010, after transformation, rent_prediction/rent_true = $e^{+/-0.1042}$ = 1.106/0.904, so the predicted rent is either 10.6% more than the actual rent or 9.6% less than the actual rent."
   ]
  },
  {
   "cell_type": "code",
   "execution_count": 23,
   "metadata": {
    "collapsed": false,
    "deletable": true,
    "editable": true
   },
   "outputs": [
    {
     "name": "stdout",
     "output_type": "stream",
     "text": [
      "features:    bathrooms  bedrooms  list_price   latitude  longitude  lot_sqft    sqft  \\\n",
      "0         2.0         2    249900.0  30.889162 -98.465741       1.0  2324.0   \n",
      "6         3.0         4    550000.0  30.129987 -97.779938       4.0  2500.0   \n",
      "10        1.0         3     38528.0  33.208160 -88.116701       0.0  1123.0   \n",
      "16        2.0         4     29500.0  42.433614 -82.996288    8712.0  1431.0   \n",
      "19        1.0         2     25000.0  33.208160 -88.116701    8712.0  1165.0   \n",
      "\n",
      "    year_from_now  APT_type  COND_type  COOP_type  Country Homes/Acreag_type  \\\n",
      "0              67         0          0          0                          0   \n",
      "6               2         0          0          0                          0   \n",
      "10             57         0          0          0                          0   \n",
      "16             78         0          0          0                          0   \n",
      "19             87         0          0          0                          0   \n",
      "\n",
      "    FARM_type  LAND_type  MULT_type  OTHER_type  RENT_type  RESI_type  \\\n",
      "0           0          0          0           0          0          1   \n",
      "6           0          0          0           0          0          1   \n",
      "10          0          0          0           0          0          1   \n",
      "16          0          0          0           0          0          1   \n",
      "19          0          0          0           0          0          1   \n",
      "\n",
      "    Timeshare_type  \n",
      "0                0  \n",
      "6                0  \n",
      "10               0  \n",
      "16               0  \n",
      "19               0  \n"
     ]
    }
   ],
   "source": [
    "#Prediction for those records without rentzestimate_amount:property_price_tobe. First transform features of that dataset\n",
    "X_tobe= property_price_tobe.loc[:,~property_price_tobe.columns.isin(['log_rent'])]\n",
    "print('features:%s'%X_tobe.head())\n",
    "\n",
    "standard_norm = preprocessing.StandardScaler()\n",
    "X_tobe_norm_part1 = standard_norm.fit_transform(X_tobe.iloc[:,0:8])\n",
    "X_tobe_norm = np.concatenate((X_tobe_norm_part1,np.array(X_tobe.iloc[:,8:])),axis = 1)"
   ]
  },
  {
   "cell_type": "code",
   "execution_count": 24,
   "metadata": {
    "collapsed": true,
    "deletable": true,
    "editable": true
   },
   "outputs": [],
   "source": [
    "# Use Gradient Boosting modelt to generate predicitons for three datasets.\n",
    "y_pred_train = GB.predict(X_train)\n",
    "y_pred_test = GB.predict(X_test)\n",
    "y_pred_tobe = GB.predict(X_tobe_norm)\n",
    "\n",
    "train_pred = pd.concat([pd.DataFrame(X_train),pd.DataFrame(y_train),pd.DataFrame(y_pred_train)],axis = 1)\n",
    "test_pred = pd.concat([pd.DataFrame(X_test),pd.DataFrame(y_test),pd.DataFrame(y_pred_test)],axis = 1)\n",
    "tobe_pred = pd.concat([pd.DataFrame(X_tobe_norm),pd.DataFrame(y_pred_tobe)],axis = 1)\n",
    "\n",
    "pd.DataFrame(train_pred).to_csv('train_prediction_sk.csv')\n",
    "pd.DataFrame(test_pred).to_csv('test_prediction_sk.csv')\n",
    "pd.DataFrame(tobe_pred).to_csv('tobe_prediction_sk.csv')"
   ]
  },
  {
   "cell_type": "code",
   "execution_count": 26,
   "metadata": {
    "collapsed": true,
    "deletable": true,
    "editable": true
   },
   "outputs": [],
   "source": [
    "#give column names\n",
    "X_train = pd.DataFrame(X_train)\n",
    "X_train.columns = features.columns.values"
   ]
  },
  {
   "cell_type": "code",
   "execution_count": 27,
   "metadata": {
    "collapsed": false,
    "deletable": true,
    "editable": true
   },
   "outputs": [
    {
     "data": {
      "text/html": [
       "<div>\n",
       "<table border=\"1\" class=\"dataframe\">\n",
       "  <thead>\n",
       "    <tr style=\"text-align: right;\">\n",
       "      <th></th>\n",
       "      <th>0</th>\n",
       "    </tr>\n",
       "  </thead>\n",
       "  <tbody>\n",
       "    <tr>\n",
       "      <th>0</th>\n",
       "      <td>bathrooms</td>\n",
       "    </tr>\n",
       "    <tr>\n",
       "      <th>1</th>\n",
       "      <td>bedrooms</td>\n",
       "    </tr>\n",
       "    <tr>\n",
       "      <th>2</th>\n",
       "      <td>list_price</td>\n",
       "    </tr>\n",
       "    <tr>\n",
       "      <th>3</th>\n",
       "      <td>latitude</td>\n",
       "    </tr>\n",
       "    <tr>\n",
       "      <th>4</th>\n",
       "      <td>longitude</td>\n",
       "    </tr>\n",
       "    <tr>\n",
       "      <th>5</th>\n",
       "      <td>lot_sqft</td>\n",
       "    </tr>\n",
       "    <tr>\n",
       "      <th>6</th>\n",
       "      <td>sqft</td>\n",
       "    </tr>\n",
       "    <tr>\n",
       "      <th>7</th>\n",
       "      <td>year_from_now</td>\n",
       "    </tr>\n",
       "    <tr>\n",
       "      <th>8</th>\n",
       "      <td>APT_type</td>\n",
       "    </tr>\n",
       "    <tr>\n",
       "      <th>9</th>\n",
       "      <td>COND_type</td>\n",
       "    </tr>\n",
       "    <tr>\n",
       "      <th>10</th>\n",
       "      <td>COOP_type</td>\n",
       "    </tr>\n",
       "    <tr>\n",
       "      <th>11</th>\n",
       "      <td>Country Homes/Acreag_type</td>\n",
       "    </tr>\n",
       "    <tr>\n",
       "      <th>12</th>\n",
       "      <td>FARM_type</td>\n",
       "    </tr>\n",
       "    <tr>\n",
       "      <th>13</th>\n",
       "      <td>LAND_type</td>\n",
       "    </tr>\n",
       "    <tr>\n",
       "      <th>14</th>\n",
       "      <td>MULT_type</td>\n",
       "    </tr>\n",
       "    <tr>\n",
       "      <th>15</th>\n",
       "      <td>OTHER_type</td>\n",
       "    </tr>\n",
       "    <tr>\n",
       "      <th>16</th>\n",
       "      <td>RENT_type</td>\n",
       "    </tr>\n",
       "    <tr>\n",
       "      <th>17</th>\n",
       "      <td>RESI_type</td>\n",
       "    </tr>\n",
       "    <tr>\n",
       "      <th>18</th>\n",
       "      <td>Timeshare_type</td>\n",
       "    </tr>\n",
       "  </tbody>\n",
       "</table>\n",
       "</div>"
      ],
      "text/plain": [
       "                            0\n",
       "0                   bathrooms\n",
       "1                    bedrooms\n",
       "2                  list_price\n",
       "3                    latitude\n",
       "4                   longitude\n",
       "5                    lot_sqft\n",
       "6                        sqft\n",
       "7               year_from_now\n",
       "8                    APT_type\n",
       "9                   COND_type\n",
       "10                  COOP_type\n",
       "11  Country Homes/Acreag_type\n",
       "12                  FARM_type\n",
       "13                  LAND_type\n",
       "14                  MULT_type\n",
       "15                 OTHER_type\n",
       "16                  RENT_type\n",
       "17                  RESI_type\n",
       "18             Timeshare_type"
      ]
     },
     "execution_count": 27,
     "metadata": {},
     "output_type": "execute_result"
    }
   ],
   "source": [
    "pd.DataFrame(X_train.columns)"
   ]
  },
  {
   "cell_type": "code",
   "execution_count": 30,
   "metadata": {
    "collapsed": false
   },
   "outputs": [
    {
     "data": {
      "text/plain": [
       "array([18, 10, 15, 12, 16, 11, 13,  9, 14,  8, 17,  1,  0,  5,  7,  6,  3,\n",
       "        4,  2], dtype=int64)"
      ]
     },
     "execution_count": 30,
     "metadata": {},
     "output_type": "execute_result"
    }
   ],
   "source": [
    "np.argsort(GB.feature_importances_)"
   ]
  },
  {
   "cell_type": "code",
   "execution_count": 31,
   "metadata": {
    "collapsed": false,
    "deletable": true,
    "editable": true
   },
   "outputs": [
    {
     "name": "stdout",
     "output_type": "stream",
     "text": [
      "Feature ranking:\n",
      "1.       list_price  (0.348840)\n",
      "2.        longitude  (0.184163)\n",
      "3.         latitude  (0.165592)\n",
      "4.             sqft  (0.089486)\n",
      "5.    year_from_now  (0.066646)\n",
      "6.         lot_sqft  (0.064469)\n",
      "7.        bathrooms  (0.035840)\n",
      "8.         bedrooms  (0.022900)\n",
      "9.        RESI_type  (0.005252)\n",
      "10.         APT_type  (0.004918)\n",
      "11.        MULT_type  (0.003021)\n",
      "12.        COND_type  (0.002650)\n",
      "13.        LAND_type  (0.002624)\n",
      "14.  Country Homes/Acreag_type  (0.002589)\n",
      "15.        RENT_type  (0.000707)\n",
      "16.        FARM_type  (0.000196)\n",
      "17.       OTHER_type  (0.000106)\n",
      "18.        COOP_type  (0.000000)\n",
      "19.   Timeshare_type  (0.000000)\n"
     ]
    }
   ],
   "source": [
    "#check importance of features\n",
    "importances = GB.feature_importances_\n",
    "indices = np.argsort(importances)[::-1]\n",
    "\n",
    "# Print the feature ranking\n",
    "print(\"Feature ranking:\")\n",
    "for f in range(X_train.shape[1]):\n",
    "    print(\"%d.  %15s  (%f)\" % (f + 1, X_train.columns[indices[f]], importances[indices[f]]))"
   ]
  }
 ],
 "metadata": {
  "kernelspec": {
   "display_name": "Python 3",
   "language": "python",
   "name": "python3"
  },
  "language_info": {
   "codemirror_mode": {
    "name": "ipython",
    "version": 3
   },
   "file_extension": ".py",
   "mimetype": "text/x-python",
   "name": "python",
   "nbconvert_exporter": "python",
   "pygments_lexer": "ipython3",
   "version": "3.5.2"
  }
 },
 "nbformat": 4,
 "nbformat_minor": 2
}
