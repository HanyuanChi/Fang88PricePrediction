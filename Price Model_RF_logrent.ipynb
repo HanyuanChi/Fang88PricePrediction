{
 "cells": [
  {
   "cell_type": "markdown",
   "metadata": {},
   "source": [
    "# Predictive Model"
   ]
  },
  {
   "cell_type": "code",
   "execution_count": 1,
   "metadata": {
    "collapsed": true
   },
   "outputs": [],
   "source": [
    "import pandas as pd\n",
    "import numpy as np\n",
    "\n",
    "#load data\n",
    "house_rent = pd.read_csv('house_rent.csv', header = 0, na_values = [' ','NA','NAN','None'])"
   ]
  },
  {
   "cell_type": "code",
   "execution_count": 2,
   "metadata": {},
   "outputs": [
    {
     "name": "stdout",
     "output_type": "stream",
     "text": [
      "(221947, 15)\n",
      "Unnamed: 0              221946\n",
      "unique_id               221946\n",
      "bathrooms               221946\n",
      "bedrooms                221946\n",
      "city                    221921\n",
      "list_price              221946\n",
      "latitude                221946\n",
      "longitude               221946\n",
      "property_type           221946\n",
      "lot_sqft                221946\n",
      "sqft                    221946\n",
      "state                   221946\n",
      "year_built              221946\n",
      "zip                     221946\n",
      "rentzestimate_amount    221947\n",
      "dtype: int64\n"
     ]
    }
   ],
   "source": [
    "#check data structure\n",
    "print(house_rent.shape)\n",
    "print(house_rent.count())"
   ]
  },
  {
   "cell_type": "code",
   "execution_count": 3,
   "metadata": {},
   "outputs": [
    {
     "data": {
      "text/html": [
       "<div>\n",
       "<style>\n",
       "    .dataframe thead tr:only-child th {\n",
       "        text-align: right;\n",
       "    }\n",
       "\n",
       "    .dataframe thead th {\n",
       "        text-align: left;\n",
       "    }\n",
       "\n",
       "    .dataframe tbody tr th {\n",
       "        vertical-align: top;\n",
       "    }\n",
       "</style>\n",
       "<table border=\"1\" class=\"dataframe\">\n",
       "  <thead>\n",
       "    <tr style=\"text-align: right;\">\n",
       "      <th></th>\n",
       "      <th>Unnamed: 0</th>\n",
       "      <th>unique_id</th>\n",
       "      <th>bathrooms</th>\n",
       "      <th>bedrooms</th>\n",
       "      <th>city</th>\n",
       "      <th>list_price</th>\n",
       "      <th>latitude</th>\n",
       "      <th>longitude</th>\n",
       "      <th>property_type</th>\n",
       "      <th>lot_sqft</th>\n",
       "      <th>sqft</th>\n",
       "      <th>state</th>\n",
       "      <th>year_built</th>\n",
       "      <th>zip</th>\n",
       "      <th>rentzestimate_amount</th>\n",
       "    </tr>\n",
       "  </thead>\n",
       "  <tbody>\n",
       "    <tr>\n",
       "      <th>209167</th>\n",
       "      <td>NaN</td>\n",
       "      <td>NaN</td>\n",
       "      <td>NaN</td>\n",
       "      <td>NaN</td>\n",
       "      <td>NaN</td>\n",
       "      <td>NaN</td>\n",
       "      <td>NaN</td>\n",
       "      <td>NaN</td>\n",
       "      <td>NaN</td>\n",
       "      <td>NaN</td>\n",
       "      <td>NaN</td>\n",
       "      <td>NaN</td>\n",
       "      <td>NaN</td>\n",
       "      <td>NaN</td>\n",
       "      <td>2700</td>\n",
       "    </tr>\n",
       "  </tbody>\n",
       "</table>\n",
       "</div>"
      ],
      "text/plain": [
       "        Unnamed: 0 unique_id  bathrooms  bedrooms city  list_price  latitude  \\\n",
       "209167         NaN       NaN        NaN       NaN  NaN         NaN       NaN   \n",
       "\n",
       "        longitude property_type  lot_sqft  sqft state  year_built  zip  \\\n",
       "209167        NaN           NaN       NaN   NaN   NaN         NaN  NaN   \n",
       "\n",
       "        rentzestimate_amount  \n",
       "209167                  2700  "
      ]
     },
     "execution_count": 3,
     "metadata": {},
     "output_type": "execute_result"
    }
   ],
   "source": [
    "#check NA\n",
    "house_rent.loc[house_rent['year_built'].isnull()==True]"
   ]
  },
  {
   "cell_type": "code",
   "execution_count": 4,
   "metadata": {},
   "outputs": [
    {
     "name": "stdout",
     "output_type": "stream",
     "text": [
      "Unnamed: 0              float64\n",
      "unique_id                object\n",
      "bathrooms               float64\n",
      "bedrooms                float64\n",
      "city                     object\n",
      "list_price              float64\n",
      "latitude                float64\n",
      "longitude               float64\n",
      "property_type            object\n",
      "lot_sqft                float64\n",
      "sqft                    float64\n",
      "state                    object\n",
      "year_built              float64\n",
      "zip                     float64\n",
      "rentzestimate_amount      int64\n",
      "dtype: object\n"
     ]
    }
   ],
   "source": [
    "#remove NA\n",
    "house_rent = house_rent.loc[house_rent['year_built'].isnull()== False]\n",
    "#check data type\n",
    "print(house_rent.dtypes)"
   ]
  },
  {
   "cell_type": "code",
   "execution_count": 5,
   "metadata": {
    "collapsed": true
   },
   "outputs": [],
   "source": [
    "#change zip code data type from float to string\n",
    "house_rent.zip = house_rent.zip.astype(str)\n",
    "#change year_built data type from float to int\n",
    "house_rent.year_built = house_rent.year_built.astype(np.int64)\n",
    "#create two variables: year_from_now and log_rent(the rent is right-skewed, log transformation on rent)\n",
    "import datetime\n",
    "house_rent['year_from_now'] = datetime.date.today().year - house_rent['year_built']\n",
    "house_rent['log_rent'] = np.log(house_rent['rentzestimate_amount'])"
   ]
  },
  {
   "cell_type": "code",
   "execution_count": 6,
   "metadata": {
    "collapsed": true
   },
   "outputs": [],
   "source": [
    "#categorical variables: create dummies(state and property type)\n",
    "#zip and city have too many levels, so I don't include them in the prediction\n",
    "state = pd.get_dummies(house_rent['state']).add_suffix('_state')\n",
    "property_type = pd.get_dummies(house_rent['property_type']).add_suffix('_type')\n",
    "house_rent_dummy = pd.concat([house_rent,state,property_type],axis = 1)"
   ]
  },
  {
   "cell_type": "code",
   "execution_count": 7,
   "metadata": {},
   "outputs": [
    {
     "name": "stdout",
     "output_type": "stream",
     "text": [
      "(1110, 17)\n"
     ]
    },
    {
     "data": {
      "text/html": [
       "<div>\n",
       "<style>\n",
       "    .dataframe thead tr:only-child th {\n",
       "        text-align: right;\n",
       "    }\n",
       "\n",
       "    .dataframe thead th {\n",
       "        text-align: left;\n",
       "    }\n",
       "\n",
       "    .dataframe tbody tr th {\n",
       "        vertical-align: top;\n",
       "    }\n",
       "</style>\n",
       "<table border=\"1\" class=\"dataframe\">\n",
       "  <thead>\n",
       "    <tr style=\"text-align: right;\">\n",
       "      <th></th>\n",
       "      <th>bathrooms</th>\n",
       "      <th>bedrooms</th>\n",
       "      <th>list_price</th>\n",
       "      <th>latitude</th>\n",
       "      <th>longitude</th>\n",
       "      <th>lot_sqft</th>\n",
       "      <th>sqft</th>\n",
       "      <th>year_from_now</th>\n",
       "      <th>log_rent</th>\n",
       "      <th>CA_state</th>\n",
       "      <th>GA_state</th>\n",
       "      <th>TX_state</th>\n",
       "      <th>APT_type</th>\n",
       "      <th>COND_type</th>\n",
       "      <th>MULT_type</th>\n",
       "      <th>RESI_type</th>\n",
       "      <th>Timeshare_type</th>\n",
       "    </tr>\n",
       "  </thead>\n",
       "  <tbody>\n",
       "    <tr>\n",
       "      <th>193765</th>\n",
       "      <td>3.0</td>\n",
       "      <td>4.0</td>\n",
       "      <td>434900.0</td>\n",
       "      <td>30.192267</td>\n",
       "      <td>-97.893233</td>\n",
       "      <td>9200.0</td>\n",
       "      <td>2918.0</td>\n",
       "      <td>28</td>\n",
       "      <td>7.803843</td>\n",
       "      <td>0</td>\n",
       "      <td>0</td>\n",
       "      <td>1</td>\n",
       "      <td>0</td>\n",
       "      <td>0</td>\n",
       "      <td>0</td>\n",
       "      <td>1</td>\n",
       "      <td>0</td>\n",
       "    </tr>\n",
       "    <tr>\n",
       "      <th>217676</th>\n",
       "      <td>3.0</td>\n",
       "      <td>3.0</td>\n",
       "      <td>565000.0</td>\n",
       "      <td>30.197375</td>\n",
       "      <td>-97.832206</td>\n",
       "      <td>9200.0</td>\n",
       "      <td>1800.0</td>\n",
       "      <td>0</td>\n",
       "      <td>7.536364</td>\n",
       "      <td>0</td>\n",
       "      <td>0</td>\n",
       "      <td>1</td>\n",
       "      <td>0</td>\n",
       "      <td>0</td>\n",
       "      <td>0</td>\n",
       "      <td>1</td>\n",
       "      <td>0</td>\n",
       "    </tr>\n",
       "    <tr>\n",
       "      <th>215854</th>\n",
       "      <td>3.0</td>\n",
       "      <td>4.0</td>\n",
       "      <td>1300000.0</td>\n",
       "      <td>30.705240</td>\n",
       "      <td>-97.166962</td>\n",
       "      <td>144.0</td>\n",
       "      <td>4086.0</td>\n",
       "      <td>10</td>\n",
       "      <td>7.901007</td>\n",
       "      <td>0</td>\n",
       "      <td>0</td>\n",
       "      <td>1</td>\n",
       "      <td>0</td>\n",
       "      <td>0</td>\n",
       "      <td>0</td>\n",
       "      <td>1</td>\n",
       "      <td>0</td>\n",
       "    </tr>\n",
       "    <tr>\n",
       "      <th>138472</th>\n",
       "      <td>3.0</td>\n",
       "      <td>4.0</td>\n",
       "      <td>578000.0</td>\n",
       "      <td>30.465448</td>\n",
       "      <td>-98.033917</td>\n",
       "      <td>9200.0</td>\n",
       "      <td>3493.0</td>\n",
       "      <td>8</td>\n",
       "      <td>7.950855</td>\n",
       "      <td>0</td>\n",
       "      <td>0</td>\n",
       "      <td>1</td>\n",
       "      <td>0</td>\n",
       "      <td>0</td>\n",
       "      <td>0</td>\n",
       "      <td>1</td>\n",
       "      <td>0</td>\n",
       "    </tr>\n",
       "    <tr>\n",
       "      <th>186266</th>\n",
       "      <td>3.0</td>\n",
       "      <td>4.0</td>\n",
       "      <td>279500.0</td>\n",
       "      <td>33.818432</td>\n",
       "      <td>-116.462807</td>\n",
       "      <td>8276.0</td>\n",
       "      <td>1428.0</td>\n",
       "      <td>23</td>\n",
       "      <td>7.438384</td>\n",
       "      <td>1</td>\n",
       "      <td>0</td>\n",
       "      <td>0</td>\n",
       "      <td>0</td>\n",
       "      <td>0</td>\n",
       "      <td>0</td>\n",
       "      <td>1</td>\n",
       "      <td>0</td>\n",
       "    </tr>\n",
       "  </tbody>\n",
       "</table>\n",
       "</div>"
      ],
      "text/plain": [
       "        bathrooms  bedrooms  list_price   latitude   longitude  lot_sqft  \\\n",
       "193765        3.0       4.0    434900.0  30.192267  -97.893233    9200.0   \n",
       "217676        3.0       3.0    565000.0  30.197375  -97.832206    9200.0   \n",
       "215854        3.0       4.0   1300000.0  30.705240  -97.166962     144.0   \n",
       "138472        3.0       4.0    578000.0  30.465448  -98.033917    9200.0   \n",
       "186266        3.0       4.0    279500.0  33.818432 -116.462807    8276.0   \n",
       "\n",
       "          sqft  year_from_now  log_rent  CA_state  GA_state  TX_state  \\\n",
       "193765  2918.0             28  7.803843         0         0         1   \n",
       "217676  1800.0              0  7.536364         0         0         1   \n",
       "215854  4086.0             10  7.901007         0         0         1   \n",
       "138472  3493.0              8  7.950855         0         0         1   \n",
       "186266  1428.0             23  7.438384         1         0         0   \n",
       "\n",
       "        APT_type  COND_type  MULT_type  RESI_type  Timeshare_type  \n",
       "193765         0          0          0          1               0  \n",
       "217676         0          0          0          1               0  \n",
       "215854         0          0          0          1               0  \n",
       "138472         0          0          0          1               0  \n",
       "186266         0          0          0          1               0  "
      ]
     },
     "execution_count": 7,
     "metadata": {},
     "output_type": "execute_result"
    }
   ],
   "source": [
    "#use a random sample(0.5%) to find the best model first and only select useful attributes\n",
    "property_price = house_rent_dummy.loc[:,~house_rent_dummy.columns.isin(['Unnamed: 0','unique_id','city','property_type',\n",
    "                                                                        'state','year_built','zip','rentzestimate_amount'\n",
    "                                                                       ])].sample(frac = 0.005)\n",
    "print(property_price.shape)\n",
    "property_price.head()"
   ]
  },
  {
   "cell_type": "code",
   "execution_count": 8,
   "metadata": {},
   "outputs": [
    {
     "name": "stdout",
     "output_type": "stream",
     "text": [
      "target:        log_rent\n",
      "193765  7.803843\n",
      "217676  7.536364\n",
      "215854  7.901007\n",
      "138472  7.950855\n",
      "186266  7.438384\n",
      "features:        bathrooms  bedrooms  list_price   latitude   longitude  lot_sqft  \\\n",
      "193765        3.0       4.0    434900.0  30.192267  -97.893233    9200.0   \n",
      "217676        3.0       3.0    565000.0  30.197375  -97.832206    9200.0   \n",
      "215854        3.0       4.0   1300000.0  30.705240  -97.166962     144.0   \n",
      "138472        3.0       4.0    578000.0  30.465448  -98.033917    9200.0   \n",
      "186266        3.0       4.0    279500.0  33.818432 -116.462807    8276.0   \n",
      "\n",
      "          sqft  year_from_now  CA_state  GA_state  TX_state  APT_type  \\\n",
      "193765  2918.0             28         0         0         1         0   \n",
      "217676  1800.0              0         0         0         1         0   \n",
      "215854  4086.0             10         0         0         1         0   \n",
      "138472  3493.0              8         0         0         1         0   \n",
      "186266  1428.0             23         1         0         0         0   \n",
      "\n",
      "        COND_type  MULT_type  RESI_type  Timeshare_type  \n",
      "193765          0          0          1               0  \n",
      "217676          0          0          1               0  \n",
      "215854          0          0          1               0  \n",
      "138472          0          0          1               0  \n",
      "186266          0          0          1               0  \n"
     ]
    }
   ],
   "source": [
    "#define features dataset(x) and target vector(y)\n",
    "target = property_price.loc[:,property_price.columns.isin(['log_rent'])]\n",
    "print('target:%s' %target.head())\n",
    "\n",
    "features = property_price.loc[:,~property_price.columns.isin(['log_rent'])]\n",
    "print('features:%s'%features.head())"
   ]
  },
  {
   "cell_type": "code",
   "execution_count": 9,
   "metadata": {},
   "outputs": [
    {
     "name": "stderr",
     "output_type": "stream",
     "text": [
      "C:\\Users\\Hanyuan CHI\\Anaconda3\\lib\\site-packages\\sklearn\\cross_validation.py:44: DeprecationWarning: This module was deprecated in version 0.18 in favor of the model_selection module into which all the refactored classes and functions are moved. Also note that the interface of the new CV iterators are different from that of this module. This module will be removed in 0.20.\n",
      "  \"This module will be removed in 0.20.\", DeprecationWarning)\n"
     ]
    }
   ],
   "source": [
    "from sklearn import linear_model,metrics,preprocessing,svm,cross_validation\n",
    "from sklearn.linear_model import LinearRegression, Lasso, Ridge, ElasticNet\n",
    "from sklearn.tree import DecisionTreeRegressor\n",
    "from sklearn.neural_network import MLPRegressor\n",
    "from sklearn.neighbors import KNeighborsRegressor\n",
    "from sklearn.ensemble import RandomForestRegressor, ExtraTreesRegressor,GradientBoostingRegressor,AdaBoostRegressor\n",
    "from sklearn.cross_validation import train_test_split,cross_val_score,KFold\n",
    "from sklearn.decomposition import PCA\n",
    "from sklearn.model_selection import train_test_split\n",
    "from sklearn.ensemble import BaggingRegressor"
   ]
  },
  {
   "cell_type": "code",
   "execution_count": 10,
   "metadata": {
    "collapsed": true
   },
   "outputs": [],
   "source": [
    "#min_max normalization for each feature\n",
    "min_max_norm = preprocessing.MinMaxScaler()\n",
    "feature_norm = min_max_norm.fit_transform(features)\n",
    "target_array = np.squeeze(target.values)"
   ]
  },
  {
   "cell_type": "code",
   "execution_count": 11,
   "metadata": {
    "collapsed": true
   },
   "outputs": [],
   "source": [
    "#split training dataset and testing dataset\n",
    "X_train, X_test, y_train, y_test = train_test_split(\n",
    "    feature_norm, target_array, test_size=0.7, random_state=0)"
   ]
  },
  {
   "cell_type": "code",
   "execution_count": 13,
   "metadata": {},
   "outputs": [
    {
     "name": "stdout",
     "output_type": "stream",
     "text": [
      "Method: neural network\n",
      "RMSE on testing: 0.3397\n",
      "RMSE on CV: 0.3032\n",
      "MSE on testing: 0.1154\n",
      "MSE on CV: 0.0919\n",
      "MAE on testing: 0.2294\n",
      "MAE on CV: 0.2130\n",
      "\n",
      "\n",
      "Method: regression tree\n",
      "RMSE on testing: 0.3306\n",
      "RMSE on CV: 0.3065\n",
      "MSE on testing: 0.1093\n",
      "MSE on CV: 0.0939\n",
      "MAE on testing: 0.1977\n",
      "MAE on CV: 0.1999\n",
      "\n",
      "\n",
      "Method: linear regression\n",
      "RMSE on testing: 0.4495\n",
      "RMSE on CV: 0.3325\n",
      "MSE on testing: 0.2020\n",
      "MSE on CV: 0.1106\n",
      "MAE on testing: 0.2652\n",
      "MAE on CV: 0.2501\n",
      "\n",
      "\n",
      "Method: ridge regression\n",
      "RMSE on testing: 0.4105\n",
      "RMSE on CV: 0.3298\n",
      "MSE on testing: 0.1685\n",
      "MSE on CV: 0.1088\n",
      "MAE on testing: 0.2692\n",
      "MAE on CV: 0.2537\n",
      "\n",
      "\n",
      "Method: lasso regression\n",
      "RMSE on testing: 0.6049\n",
      "RMSE on CV: 0.6504\n",
      "MSE on testing: 0.3659\n",
      "MSE on CV: 0.4230\n",
      "MAE on testing: 0.4427\n",
      "MAE on CV: 0.4831\n",
      "\n",
      "\n",
      "Method: elastic-net regularization\n",
      "RMSE on testing: 0.6049\n",
      "RMSE on CV: 0.6504\n",
      "MSE on testing: 0.3659\n",
      "MSE on CV: 0.4230\n",
      "MAE on testing: 0.4427\n",
      "MAE on CV: 0.4831\n",
      "\n",
      "\n",
      "Method: KNN\n",
      "RMSE on testing: 0.3796\n",
      "RMSE on CV: 0.3663\n",
      "MSE on testing: 0.1441\n",
      "MSE on CV: 0.1342\n",
      "MAE on testing: 0.2523\n",
      "MAE on CV: 0.2697\n",
      "\n",
      "\n",
      "Method: random forests regressor\n",
      "RMSE on testing: 0.2933\n",
      "RMSE on CV: 0.2631\n",
      "MSE on testing: 0.0860\n",
      "MSE on CV: 0.0692\n",
      "MAE on testing: 0.1624\n",
      "MAE on CV: 0.1630\n",
      "\n",
      "\n",
      "Method: extra trees regressor\n",
      "RMSE on testing: 0.2841\n",
      "RMSE on CV: 0.2496\n",
      "MSE on testing: 0.0807\n",
      "MSE on CV: 0.0623\n",
      "MAE on testing: 0.1615\n",
      "MAE on CV: 0.1574\n",
      "\n",
      "\n",
      "Method: gradient boosting regressor\n",
      "RMSE on testing: 0.3567\n",
      "RMSE on CV: 0.3395\n",
      "MSE on testing: 0.1272\n",
      "MSE on CV: 0.1153\n",
      "MAE on testing: 0.1976\n",
      "MAE on CV: 0.1925\n",
      "\n",
      "\n",
      "Method: adaBoost regressor\n",
      "RMSE on testing: 0.2890\n",
      "RMSE on CV: 0.2611\n",
      "MSE on testing: 0.0835\n",
      "MSE on CV: 0.0682\n",
      "MAE on testing: 0.1559\n",
      "MAE on CV: 0.1559\n",
      "\n",
      "\n",
      "Method: bagging regressor\n",
      "RMSE on testing: 0.2979\n",
      "RMSE on CV: 0.2752\n",
      "MSE on testing: 0.0887\n",
      "MSE on CV: 0.0757\n",
      "MAE on testing: 0.1710\n",
      "MAE on CV: 0.1745\n",
      "\n",
      "\n"
     ]
    }
   ],
   "source": [
    "#run regression models and calculate mse(mean squared error),rmse(root mean square error)and mae(mean absolute error)\n",
    "#rmse on cross-validation is used for model selection, and rmse on testing set shows the model generalization performance\n",
    "for name,met in [\n",
    "        ('neural network',MLPRegressor(hidden_layer_sizes=(30,30,30), activation='logistic', \n",
    "                                       solver='lbfgs', alpha=0.001)),\n",
    "        ('regression tree',DecisionTreeRegressor(max_depth=20, min_samples_leaf= 5, min_samples_split= 5)),\n",
    "        ('linear regression', LinearRegression()),\n",
    "        ('ridge regression', Ridge(fit_intercept=True, alpha=0.3)),\n",
    "        ('lasso regression', Lasso(fit_intercept=True, alpha=0.3)),\n",
    "        ('elastic-net regularization', ElasticNet(fit_intercept=True, alpha=0.3)),\n",
    "        ('KNN', KNeighborsRegressor(n_neighbors=2,metric = 'euclidean')),\n",
    "        ('random forests regressor', RandomForestRegressor(n_estimators=100, criterion='mse', max_depth= 10, \n",
    "                            min_samples_split=2, min_samples_leaf=1, min_weight_fraction_leaf=0.0, \n",
    "                            max_features='auto', random_state=0)),\n",
    "        ('extra trees regressor', ExtraTreesRegressor(n_estimators=100, criterion='mse', max_depth=10, \n",
    "                                                      min_samples_split=2, min_samples_leaf=1, \n",
    "                                                      min_weight_fraction_leaf=0.0, random_state=0)),\n",
    "        ('gradient boosting regressor', GradientBoostingRegressor(loss='ls', alpha=0.95,\n",
    "                                n_estimators=100, max_depth=10,\n",
    "                                learning_rate=.1)),\n",
    "        ('adaBoost regressor', AdaBoostRegressor(DecisionTreeRegressor(max_depth=10, min_samples_leaf= 5, min_samples_split= 5), \n",
    "                                                n_estimators=100, learning_rate=0.1, loss='linear', random_state=0)),\n",
    "        ('bagging regressor',BaggingRegressor(DecisionTreeRegressor(max_depth=20, min_samples_leaf= 5, min_samples_split= 5),\n",
    "                                              n_estimators=100,max_samples=1.0, max_features=1.0, random_state=0))\n",
    "        ]:\n",
    "    #cross validation to calculate rmse,mse,mae for model selection\n",
    "    mse_cv = -cross_validation.cross_val_score(met, X_train, y_train, scoring='neg_mean_squared_error', cv=5,).mean()\n",
    "    mae_cv = -cross_validation.cross_val_score(met, X_train, y_train, scoring='neg_mean_absolute_error', cv=5,).mean()\n",
    "    rmse_cv = np.sqrt(abs(mse_cv))\n",
    "    #generalizaton performance of the model on testing set\n",
    "    met.fit(X_train, y_train)\n",
    "    y_pred = met.predict(X_test)\n",
    "    mse_test = metrics.mean_squared_error(y_test, y_pred)\n",
    "    mae_test = metrics.mean_absolute_error(y_test, y_pred)\n",
    "    rmse_test = np.sqrt(mse_test)\n",
    "  \n",
    "    print('Method: %s' %name)\n",
    "    print('RMSE on testing: %.4f' %rmse_test)\n",
    "    print('RMSE on CV: %.4f' %rmse_cv)\n",
    "    print('MSE on testing: %.4f' %mse_test)\n",
    "    print('MSE on CV: %.4f' %mse_cv)\n",
    "    print('MAE on testing: %.4f' %mae_test)\n",
    "    print('MAE on CV: %.4f' %mae_cv)\n",
    "    print(\"\\n\")"
   ]
  },
  {
   "cell_type": "markdown",
   "metadata": {},
   "source": [
    "With different samples, the performances of random forests and extra trees are actually very similar in terms of RMSE on cross validation. Here we pick random forest regressor and extra trees regressor given their smallest RMSE on cross validation, so now fit the model on the whole dataset to see its generalization performance."
   ]
  },
  {
   "cell_type": "code",
   "execution_count": 14,
   "metadata": {},
   "outputs": [
    {
     "name": "stdout",
     "output_type": "stream",
     "text": [
      "RMSE on testing: 0.1121\n",
      "RMSE on CV: 0.1128\n",
      "MSE on testing: 0.0126\n",
      "MSE on CV: 0.0127\n",
      "MAE on testing: 0.0642\n",
      "MAE on CV: 0.0645\n"
     ]
    }
   ],
   "source": [
    "#Random Forest\n",
    "#select useful attributes\n",
    "property_price_whole = house_rent_dummy.loc[:,~house_rent_dummy.columns.isin(['Unnamed: 0','unique_id','city','property_type',\n",
    "                                                                        'state','year_built','zip','rentzestimate_amount'\n",
    "                                                                       ])]\n",
    "#define x and y\n",
    "target = property_price_whole.loc[:,property_price_whole.columns.isin(['log_rent'])]\n",
    "\n",
    "features = property_price_whole.loc[:,~property_price_whole.columns.isin(['log_rent'])]\n",
    "\n",
    "#normalization\n",
    "min_max_norm = preprocessing.MinMaxScaler()\n",
    "feature_norm = min_max_norm.fit_transform(features)\n",
    "target_array = np.squeeze(target.values)\n",
    "\n",
    "#split traing and testing sets\n",
    "X_train, X_test, y_train, y_test = train_test_split(\n",
    "    feature_norm, target_array, test_size=0.7, random_state=0)\n",
    "\n",
    "#fit random forests model on training set\n",
    "RF = RandomForestRegressor(n_estimators=100, criterion='mse', max_depth= 10, \n",
    "                            min_samples_split=2, min_samples_leaf=1, min_weight_fraction_leaf=0.0, \n",
    "                            max_features='auto', random_state=0)\n",
    "\n",
    "#use cross-validation to calculate rmse,mse,mae      \n",
    "mse_cv = -cross_validation.cross_val_score(RF, X_train, y_train, scoring='neg_mean_squared_error', cv=5,).mean()\n",
    "mae_cv = -cross_validation.cross_val_score(RF, X_train, y_train, scoring='neg_mean_absolute_error', cv=5,).mean()\n",
    "rmse_cv = np.sqrt(abs(mse_cv))\n",
    "\n",
    "#generalization performance of the model\n",
    "RF.fit(X_train, y_train)\n",
    "y_pred = RF.predict(X_test)\n",
    "mse_test = metrics.mean_squared_error(y_test, y_pred)\n",
    "mae_test = metrics.mean_absolute_error(y_test, y_pred)\n",
    "rmse_test = np.sqrt(mse_test)\n",
    "  \n",
    "print('RMSE on testing: %.4f' %rmse_test)\n",
    "print('RMSE on CV: %.4f' %rmse_cv)\n",
    "print('MSE on testing: %.4f' %mse_test)\n",
    "print('MSE on CV: %.4f' %mse_cv)\n",
    "print('MAE on testing: %.4f' %mae_test)\n",
    "print('MAE on CV: %.4f' %mae_cv)\n"
   ]
  },
  {
   "cell_type": "code",
   "execution_count": 15,
   "metadata": {},
   "outputs": [
    {
     "name": "stdout",
     "output_type": "stream",
     "text": [
      "RMSE on testing: 0.1663\n",
      "RMSE on CV: 0.1668\n",
      "MSE on testing: 0.0277\n",
      "MSE on CV: 0.0278\n",
      "MAE on testing: 0.1251\n",
      "MAE on CV: 0.1253\n"
     ]
    }
   ],
   "source": [
    "#Extra Trees\n",
    "#fit extra trees model on training set\n",
    "ET = ExtraTreesRegressor(n_estimators=100, criterion='mse', max_depth=10, \n",
    "                                                      min_samples_split=2, min_samples_leaf=1, \n",
    "                                                      min_weight_fraction_leaf=0.0, random_state=0)\n",
    "\n",
    "#use cross-validation to calculate rmse,mse,mae      \n",
    "mse_cv = -cross_validation.cross_val_score(ET, X_train, y_train, scoring='neg_mean_squared_error', cv=5,).mean()\n",
    "mae_cv = -cross_validation.cross_val_score(ET, X_train, y_train, scoring='neg_mean_absolute_error', cv=5,).mean()\n",
    "rmse_cv = np.sqrt(abs(mse_cv))\n",
    "\n",
    "#generalization performance of the model\n",
    "ET.fit(X_train, y_train)\n",
    "y_pred = ET.predict(X_test)\n",
    "mse_test = metrics.mean_squared_error(y_test, y_pred)\n",
    "mae_test = metrics.mean_absolute_error(y_test, y_pred)\n",
    "rmse_test = np.sqrt(mse_test)\n",
    "  \n",
    "print('RMSE on testing: %.4f' %rmse_test)\n",
    "print('RMSE on CV: %.4f' %rmse_cv)\n",
    "print('MSE on testing: %.4f' %mse_test)\n",
    "print('MSE on CV: %.4f' %mse_cv)\n",
    "print('MAE on testing: %.4f' %mae_test)\n",
    "print('MAE on CV: %.4f' %mae_cv)"
   ]
  },
  {
   "cell_type": "markdown",
   "metadata": {},
   "source": [
    "Random Forest is better when working on the whole dataset. Since mean absolute error on testing set of random forest is 0.0642, which means log(rent_prediction)-log(rent_true) = +/-0.0642, after transformation, rent_prediction/rent_true = $e^{+/-0.0642}$ = 1.066/0.938, so the predicted rent is either 6.7% more than the actual rent or 6.2% less than the actual rent."
   ]
  },
  {
   "cell_type": "code",
   "execution_count": 16,
   "metadata": {},
   "outputs": [],
   "source": [
    "#give column names\n",
    "X_train = pd.DataFrame(X_train)\n",
    "X_train.columns = features.columns.values"
   ]
  },
  {
   "cell_type": "code",
   "execution_count": 17,
   "metadata": {},
   "outputs": [
    {
     "data": {
      "text/plain": [
       "Index(['bathrooms', 'bedrooms', 'list_price', 'latitude', 'longitude',\n",
       "       'lot_sqft', 'sqft', 'year_from_now', 'CA_state', 'GA_state', 'TX_state',\n",
       "       'APT_type', 'COND_type', 'MULT_type', 'RESI_type', 'Timeshare_type'],\n",
       "      dtype='object')"
      ]
     },
     "execution_count": 17,
     "metadata": {},
     "output_type": "execute_result"
    }
   ],
   "source": [
    "X_train.columns"
   ]
  },
  {
   "cell_type": "code",
   "execution_count": 18,
   "metadata": {},
   "outputs": [
    {
     "name": "stdout",
     "output_type": "stream",
     "text": [
      "Feature ranking:\n",
      "1.       list_price  (0.804951)\n",
      "2.        longitude  (0.061654)\n",
      "3.         latitude  (0.040695)\n",
      "4.             sqft  (0.036624)\n",
      "5.    year_from_now  (0.021375)\n",
      "6.        bathrooms  (0.016834)\n",
      "7.         lot_sqft  (0.008896)\n",
      "8.         bedrooms  (0.003687)\n",
      "9.        RESI_type  (0.002418)\n",
      "10.         APT_type  (0.001947)\n",
      "11.        MULT_type  (0.000389)\n",
      "12.         TX_state  (0.000215)\n",
      "13.         CA_state  (0.000159)\n",
      "14.        COND_type  (0.000128)\n",
      "15.         GA_state  (0.000029)\n",
      "16.   Timeshare_type  (0.000000)\n"
     ]
    }
   ],
   "source": [
    "#check importance of features\n",
    "importances = RF.feature_importances_\n",
    "std = np.std([tree.feature_importances_ for tree in RF.estimators_],\n",
    "             axis=0)\n",
    "indices = np.argsort(importances)[::-1]\n",
    "\n",
    "# Print the feature ranking\n",
    "print(\"Feature ranking:\")\n",
    "for f in range(X_train.shape[1]):\n",
    "    print(\"%d.  %15s  (%f)\" % (f + 1, X_train.columns[indices[f]], importances[indices[f]]))"
   ]
  }
 ],
 "metadata": {
  "kernelspec": {
   "display_name": "Python 3",
   "language": "python",
   "name": "python3"
  },
  "language_info": {
   "codemirror_mode": {
    "name": "ipython",
    "version": 3
   },
   "file_extension": ".py",
   "mimetype": "text/x-python",
   "name": "python",
   "nbconvert_exporter": "python",
   "pygments_lexer": "ipython3",
   "version": "3.6.1"
  }
 },
 "nbformat": 4,
 "nbformat_minor": 2
}
